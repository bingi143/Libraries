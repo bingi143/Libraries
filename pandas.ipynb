{
 "cells": [
  {
   "cell_type": "markdown",
   "metadata": {},
   "source": [
    "Pandas"
   ]
  },
  {
   "cell_type": "markdown",
   "metadata": {},
   "source": [
    "'''<br>\n",
    "\n",
    "@Author: Venkatesh <br>\n",
    "@Date: 2024-08-24 18:00:30 <br>\n",
    "@Last Modified by: Author Name <br>\n",
    "@Last Modified time: 2024-08-24 18:00:30 <br>\n",
    "@Title : Program on pandas  <br>\n",
    "\n",
    "''' "
   ]
  },
  {
   "cell_type": "code",
   "execution_count": 1,
   "metadata": {},
   "outputs": [],
   "source": [
    "import pandas as pd\n",
    "import numpy as np"
   ]
  },
  {
   "cell_type": "markdown",
   "metadata": {},
   "source": [
    "1.Write a Python program to create and display a one-dimensional array-like object\n",
    "containing an array of data using Pandas module."
   ]
  },
  {
   "cell_type": "code",
   "execution_count": 2,
   "metadata": {},
   "outputs": [
    {
     "name": "stdout",
     "output_type": "stream",
     "text": [
      "0     12.00\n",
      "1     23.00\n",
      "2     13.32\n",
      "3    100.00\n",
      "4     36.00\n",
      "5     32.00\n",
      "dtype: float64\n"
     ]
    }
   ],
   "source": [
    "def one_d_pandas(list_items):\n",
    "    '''\n",
    "          Description: \n",
    "                this function is creating one dimention array as object\n",
    "          Parameters: \n",
    "                list_items(list_items):list of items\n",
    "          Return : \n",
    "                returns one dimentional array data using pandas module\n",
    "    '''\n",
    "    result_array=pd.Series(list_items)\n",
    "    return result_array\n",
    "\n",
    "\n",
    "def main():\n",
    "    list_items=[12,23,13.32,100,36,32]\n",
    "    print(one_d_pandas(list_items))\n",
    "\n",
    "\n",
    "if __name__==\"__main__\":\n",
    "    main()"
   ]
  },
  {
   "cell_type": "markdown",
   "metadata": {},
   "source": [
    "2. Write a Python program to convert a Panda module Series to Python list and it's type."
   ]
  },
  {
   "cell_type": "code",
   "execution_count": 3,
   "metadata": {},
   "outputs": [
    {
     "name": "stdout",
     "output_type": "stream",
     "text": [
      "After convering pandas series to list\n",
      "[10, 20, 30, 40, 50]\n",
      "type of list is <class 'list'>\n"
     ]
    }
   ],
   "source": [
    "def pandas_seris_list(data):\n",
    "    '''\n",
    "          Description: \n",
    "                this function is convering panda module series to python list and its type\n",
    "          Parameters: \n",
    "                data[]:list panda module series items\n",
    "          Return : \n",
    "                None\n",
    "    '''\n",
    "    list_result=data.tolist()\n",
    "    print(\"After convering pandas series to list\")\n",
    "    print(list_result)\n",
    "    print(\"type of list is\",type(list_result))\n",
    "\n",
    "\n",
    "def main():\n",
    "    data=[10, 20, 30, 40, 50]\n",
    "    data=pd.Series(data)\n",
    "    pandas_seris_list(data)\n",
    "\n",
    "\n",
    "if __name__==\"__main__\":\n",
    "    main()"
   ]
  },
  {
   "cell_type": "markdown",
   "metadata": {},
   "source": [
    "3. Write a Python program to add, subtract, multiple and divide two Pandas Series.\n",
    "Sample Series: [2, 4, 6, 8, 10], [1, 3, 5, 7, 9]"
   ]
  },
  {
   "cell_type": "code",
   "execution_count": 4,
   "metadata": {},
   "outputs": [
    {
     "name": "stdout",
     "output_type": "stream",
     "text": [
      "adding two panda series: 0     3\n",
      "1     7\n",
      "2    11\n",
      "3    15\n",
      "4    19\n",
      "dtype: int64\n",
      "substraction : 0    1\n",
      "1    1\n",
      "2    1\n",
      "3    1\n",
      "4    1\n",
      "dtype: int64\n",
      "multiplication: 0     2\n",
      "1    12\n",
      "2    30\n",
      "3    56\n",
      "4    90\n",
      "dtype: int64\n",
      "devide : 0    2.000000\n",
      "1    1.333333\n",
      "2    1.200000\n",
      "3    1.142857\n",
      "4    1.111111\n",
      "dtype: float64\n"
     ]
    }
   ],
   "source": [
    "def pandas_series_mathematical(data_1,data_2):\n",
    "    '''\n",
    "          Description: \n",
    "                this function is adding ,substraction , multiplication and dividing two panda series\n",
    "          Parameters: \n",
    "                data_1[]:list of panda module series items\n",
    "                dat_2[]: list of panda module series items\n",
    "          Return : \n",
    "                None\n",
    "    '''\n",
    "    add=data_1+data_2\n",
    "    substraction=data_1-data_2\n",
    "    multiplication=data_1*data_2\n",
    "    devide=data_1/data_2\n",
    "    print(\"adding two panda series:\",add)\n",
    "    print(\"substraction :\",substraction)\n",
    "    print(\"multiplication:\",multiplication)\n",
    "    print(\"devide :\",devide)\n",
    "    \n",
    "\n",
    "\n",
    "def main():\n",
    "    data_1=[2,4,6,8,10]\n",
    "    data_1=pd.Series(data_1)\n",
    "    data_2=[1,3,5,7,9]\n",
    "    data_2=pd.Series(data_2)\n",
    "    pandas_series_mathematical(data_1,data_2)\n",
    "\n",
    "\n",
    "if __name__==\"__main__\":\n",
    "    main()"
   ]
  },
  {
   "cell_type": "markdown",
   "metadata": {},
   "source": [
    "4. Write a Python program to get the powers of an array values element-wise.\n",
    "Note: First array elements raised to powers from second array\n",
    "Expected Output:\n",
    "Original array\n",
    "[0 1 2 3 4 5 6]\n",
    "\n",
    "First array elements raised to powers from second array, element-wise:[ 0 1 8 27 64 125 216]"
   ]
  },
  {
   "cell_type": "code",
   "execution_count": 5,
   "metadata": {},
   "outputs": [
    {
     "name": "stdout",
     "output_type": "stream",
     "text": [
      "Original array: [0 1 2 3 4 5 6]\n",
      "First array elements raised to power from second array element wise [  0   1   8  27  64 125 216]\n"
     ]
    }
   ],
   "source": [
    "def powers_of_array_values(original_array,power_array):\n",
    "    '''\n",
    "          Description: \n",
    "                this function is getting power of one array with using power of second array\n",
    "          Parameters: \n",
    "                original_array: list panda module series items\n",
    "                power_array: list panda module series items\n",
    "          Return : \n",
    "                returns powers from second array element \n",
    "    '''\n",
    "    power_value_result=original_array**power_array\n",
    "    return power_value_result.values\n",
    "\n",
    "\n",
    "def main():\n",
    "    original_array=[0,1,2,3,4,5,6]\n",
    "    original_array=pd.Series(original_array)\n",
    "    power_array=pd.Series([1,3,3,3,3,3,3])\n",
    "    print(\"Original array:\",original_array.values)\n",
    "    print(f\"First array elements raised to power from second array element wise\",powers_of_array_values(original_array,power_array))\n",
    "\n",
    "\n",
    "if __name__==\"__main__\":\n",
    "    main()"
   ]
  },
  {
   "cell_type": "markdown",
   "metadata": {},
   "source": [
    "5. Write a Python program to create and display a DataFrame from a specified dictionary\n",
    "data which has the index labels.\n",
    "Sample Python dictionary data and list labels:\n",
    "exam_data = {'name': ['Anastasia', 'Dima', 'Katherine', 'James', 'Emily', 'Michael',\n",
    "'Matthew', 'Laura', 'Kevin', 'Jonas'],\n",
    "'score': [12.5, 9, 16.5, np.nan, 9, 20, 14.5, np.nan, 8, 19],\n",
    "'attempts': [1, 3, 2, 3, 2, 3, 1, 1, 2, 1],\n",
    "'qualify': ['yes', 'no', 'yes', 'no', 'no', 'yes', 'yes', 'no', 'no', 'yes']}\n",
    "labels = ['a', 'b', 'c', 'd', 'e', 'f', 'g', 'h', 'i', 'j']"
   ]
  },
  {
   "cell_type": "code",
   "execution_count": 6,
   "metadata": {},
   "outputs": [
    {
     "name": "stdout",
     "output_type": "stream",
     "text": [
      "data frame with labels:\n",
      "        name  score  attempts qualify\n",
      "a  Anastasia   12.5         1     yes\n",
      "b       Dima    9.0         3      no\n",
      "c  Katherine   16.5         2     yes\n",
      "d      James    NaN         3      no\n",
      "e      Emily    9.0         2      no\n",
      "f    Michael   20.0         3     yes\n",
      "g    Matthew   14.5         1     yes\n",
      "h      Laura    NaN         1      no\n",
      "i      Kevin    8.0         2      no\n",
      "j      Jonas   19.0         1     yes\n"
     ]
    }
   ],
   "source": [
    "def data_frame_data(data,labels):\n",
    "    '''\n",
    "          Description: \n",
    "                this function is displaying data frame using pandas with labels\n",
    "          Parameters: \n",
    "                data{} : list of key and list elements data\n",
    "                labels[] : list of lebels items\n",
    "          Return : \n",
    "                returns the data frame\n",
    "    '''\n",
    "    data_frame_result=pd.DataFrame(data,index=labels)\n",
    "    return data_frame_result\n",
    "\n",
    "\n",
    "def main():\n",
    "    data={'name': ['Anastasia', 'Dima', 'Katherine', 'James', 'Emily', 'Michael',\n",
    "          'Matthew', 'Laura', 'Kevin', 'Jonas'],\n",
    "         'score': [12.5, 9, 16.5, np.nan, 9, 20, 14.5, np.nan, 8, 19],\n",
    "         'attempts': [1, 3, 2, 3, 2, 3, 1, 1, 2, 1],\n",
    "         'qualify': ['yes', 'no', 'yes', 'no', 'no', 'yes', 'yes', 'no', 'no', 'yes']}\n",
    "    labels=['a', 'b', 'c', 'd', 'e', 'f', 'g', 'h', 'i', 'j']\n",
    "    print(\"data frame with labels:\")\n",
    "    print(data_frame_data(data,labels))\n",
    "\n",
    "\n",
    "if __name__==\"__main__\":\n",
    "    main()"
   ]
  },
  {
   "cell_type": "markdown",
   "metadata": {},
   "source": [
    "6. Write a Python program to display a summary of the basic information about a\n",
    "specified Data Frame and its data.\n",
    "Sample Python dictionary data and list labels:\n",
    "exam_data = {'name': ['Anastasia', 'Dima', 'Katherine', 'James', 'Emily', 'Michael', 'Matthew',\n",
    "'Laura', 'Kevin', 'Jonas'],\n",
    "'score': [12.5, 9, 16.5, np.nan, 9, 20, 14.5, np.nan, 8, 19],\n",
    "'attempts': [1, 3, 2, 3, 2, 3, 1, 1, 2, 1],\n",
    "'qualify': ['yes', 'no', 'yes', 'no', 'no', 'yes', 'yes', 'no', 'no', 'yes']}\n",
    "labels = ['a', 'b', 'c', 'd', 'e', 'f', 'g', 'h', 'i', 'j']"
   ]
  },
  {
   "cell_type": "code",
   "execution_count": 7,
   "metadata": {},
   "outputs": [
    {
     "name": "stdout",
     "output_type": "stream",
     "text": [
      "<class 'pandas.core.frame.DataFrame'>\n",
      "Index: 10 entries, a to j\n",
      "Data columns (total 4 columns):\n",
      " #   Column    Non-Null Count  Dtype  \n",
      "---  ------    --------------  -----  \n",
      " 0   name      10 non-null     object \n",
      " 1   score     8 non-null      float64\n",
      " 2   attempts  10 non-null     int64  \n",
      " 3   qualify   10 non-null     object \n",
      "dtypes: float64(1), int64(1), object(2)\n",
      "memory usage: 400.0+ bytes\n",
      "             name      score   attempts qualify\n",
      "count          10   8.000000  10.000000      10\n",
      "unique         10        NaN        NaN       2\n",
      "top     Anastasia        NaN        NaN     yes\n",
      "freq            1        NaN        NaN       5\n",
      "mean          NaN  13.562500   1.900000     NaN\n",
      "std           NaN   4.693746   0.875595     NaN\n",
      "min           NaN   8.000000   1.000000     NaN\n",
      "25%           NaN   9.000000   1.000000     NaN\n",
      "50%           NaN  13.500000   2.000000     NaN\n",
      "75%           NaN  17.125000   2.750000     NaN\n",
      "max           NaN  20.000000   3.000000     NaN\n"
     ]
    }
   ],
   "source": [
    "def summary_data_frame(data,labels):\n",
    "    '''\n",
    "          Description: \n",
    "                this function is displaying summary of data frame\n",
    "          Parameters: \n",
    "                data{} : list of key and list elements data\n",
    "                labels[] : list of lebels items\n",
    "          Return : \n",
    "                returns data frame summary and data frame\n",
    "    '''\n",
    "    data_frame_result=pd.DataFrame(data,index=labels)\n",
    "    data_frame_result.info()\n",
    "    return data_frame_result.describe(include='all')\n",
    "\n",
    "\n",
    "def main():\n",
    "    data={'name': ['Anastasia', 'Dima', 'Katherine', 'James', 'Emily', 'Michael',\n",
    "          'Matthew', 'Laura', 'Kevin', 'Jonas'],\n",
    "         'score': [12.5, 9, 16.5, np.nan, 9, 20, 14.5, np.nan, 8, 19],\n",
    "         'attempts': [1, 3, 2, 3, 2, 3, 1, 1, 2, 1],\n",
    "         'qualify': ['yes', 'no', 'yes', 'no', 'no', 'yes', 'yes', 'no', 'no', 'yes']}\n",
    "    labels=['a', 'b', 'c', 'd', 'e', 'f', 'g', 'h', 'i', 'j']\n",
    "    print(summary_data_frame(data,labels))\n",
    "\n",
    "\n",
    "if __name__==\"__main__\":\n",
    "    main()"
   ]
  },
  {
   "cell_type": "markdown",
   "metadata": {},
   "source": [
    "7. Write a Python program to get the first 3 rows of a given DataFrame.\n",
    "Sample Python dictionary data and list labels:\n",
    "exam_data = {'name': ['Anastasia', 'Dima', 'Katherine', 'James', 'Emily', 'Michael', 'Matthew',\n",
    "'Laura', 'Kevin', 'Jonas'],\n",
    "'score': [12.5, 9, 16.5, np.nan, 9, 20, 14.5, np.nan, 8, 19],\n",
    "'attempts': [1, 3, 2, 3, 2, 3, 1, 1, 2, 1],\n",
    "'qualify': ['yes', 'no', 'yes', 'no', 'no', 'yes', 'yes', 'no', 'no', 'yes']}\n",
    "labels = ['a', 'b', 'c', 'd', 'e', 'f', 'g', 'h', 'i', 'j']"
   ]
  },
  {
   "cell_type": "code",
   "execution_count": 8,
   "metadata": {},
   "outputs": [
    {
     "name": "stdout",
     "output_type": "stream",
     "text": [
      "        name  score  attempts qualify\n",
      "a  Anastasia   12.5         1     yes\n",
      "b       Dima    9.0         3      no\n",
      "c  Katherine   16.5         2     yes\n"
     ]
    }
   ],
   "source": [
    "def first_three_rows_data_frame(data,labels):\n",
    "    '''\n",
    "          Description: \n",
    "                this function is displaying first three data frame of data\n",
    "          Parameters: \n",
    "                data{} : list of key and list elements data\n",
    "                labels[] : list of lebels items\n",
    "          Return : \n",
    "                returns data frame first three rows \n",
    "    '''\n",
    "    data_frame_result=pd.DataFrame(data,index=labels)\n",
    "    \n",
    "    return data_frame_result.head(3)\n",
    "\n",
    "\n",
    "def main():\n",
    "    data={'name': ['Anastasia', 'Dima', 'Katherine', 'James', 'Emily', 'Michael',\n",
    "          'Matthew', 'Laura', 'Kevin', 'Jonas'],\n",
    "         'score': [12.5, 9, 16.5, np.nan, 9, 20, 14.5, np.nan, 8, 19],\n",
    "         'attempts': [1, 3, 2, 3, 2, 3, 1, 1, 2, 1],\n",
    "         'qualify': ['yes', 'no', 'yes', 'no', 'no', 'yes', 'yes', 'no', 'no', 'yes']}\n",
    "    labels=['a', 'b', 'c', 'd', 'e', 'f', 'g', 'h', 'i', 'j']\n",
    "    print(first_three_rows_data_frame(data,labels))\n",
    "\n",
    "\n",
    "if __name__==\"__main__\":\n",
    "    main()"
   ]
  },
  {
   "cell_type": "markdown",
   "metadata": {},
   "source": [
    "8. Write a Python program to select the 'name' and 'score' columns from the following\n",
    "DataFrame.\n",
    "Sample Python dictionary data and list labels:\n",
    "exam_data = {'name': ['Anastasia', 'Dima', 'Katherine', 'James', 'Emily', 'Michael', 'Matthew',\n",
    "'Laura', 'Kevin', 'Jonas'],\n",
    "'score': [12.5, 9, 16.5, np.nan, 9, 20, 14.5, np.nan, 8, 19],\n",
    "'attempts': [1, 3, 2, 3, 2, 3, 1, 1, 2, 1],\n",
    "'qualify': ['yes', 'no', 'yes', 'no', 'no', 'yes', 'yes', 'no', 'no', 'yes']}\n",
    "\n",
    "labels = ['a', 'b', 'c', 'd', 'e', 'f', 'g', 'h', 'i', 'j']"
   ]
  },
  {
   "cell_type": "code",
   "execution_count": 9,
   "metadata": {},
   "outputs": [
    {
     "name": "stdout",
     "output_type": "stream",
     "text": [
      "Data frame for name and score:         name  score\n",
      "a  Anastasia   12.5\n",
      "b       Dima    9.0\n",
      "c  Katherine   16.5\n",
      "d      James    NaN\n",
      "e      Emily    9.0\n",
      "f    Michael   20.0\n",
      "g    Matthew   14.5\n",
      "h      Laura    NaN\n",
      "i      Kevin    8.0\n",
      "j      Jonas   19.0\n"
     ]
    }
   ],
   "source": [
    "def name_score_data_frame(data,labels):\n",
    "    '''\n",
    "          Description: \n",
    "                this function is displaying name, lables only in data frame\n",
    "          Parameters: \n",
    "                data{} : list of key and list elements data\n",
    "                labels[] : list of lebels items\n",
    "          Return : \n",
    "                returns print specific name score\n",
    "    '''\n",
    "    data_frame_result=pd.DataFrame(data,index=labels)\n",
    "    return data_frame_result[['name','score']]\n",
    "\n",
    "\n",
    "def main():\n",
    "    data={'name': ['Anastasia', 'Dima', 'Katherine', 'James', 'Emily', 'Michael',\n",
    "          'Matthew', 'Laura', 'Kevin', 'Jonas'],\n",
    "         'score': [12.5, 9, 16.5, np.nan, 9, 20, 14.5, np.nan, 8, 19],\n",
    "         'attempts': [1, 3, 2, 3, 2, 3, 1, 1, 2, 1],\n",
    "         'qualify': ['yes', 'no', 'yes', 'no', 'no', 'yes', 'yes', 'no', 'no', 'yes']}\n",
    "    labels=['a', 'b', 'c', 'd', 'e', 'f', 'g', 'h', 'i', 'j']\n",
    "    print(f\"Data frame for name and score:\",name_score_data_frame(data,labels))\n",
    "\n",
    "\n",
    "if __name__==\"__main__\":\n",
    "    main()"
   ]
  },
  {
   "cell_type": "markdown",
   "metadata": {},
   "source": [
    "9. Write a Python program to select the specified columns and rows from a given data\n",
    "frame.\n",
    "Select 'name' and 'score' columns in rows 1, 3, 5, 6 from the following data frame.\n",
    "exam_data = {'name': ['Anastasia', 'Dima', 'Katherine', 'James', 'Emily', 'Michael', 'Matthew',\n",
    "'Laura', 'Kevin', 'Jonas'],\n",
    "'score': [12.5, 9, 16.5, np.nan, 9, 20, 14.5, np.nan, 8, 19],\n",
    "'attempts': [1, 3, 2, 3, 2, 3, 1, 1, 2, 1],\n",
    "'qualify': ['yes', 'no', 'yes', 'no', 'no', 'yes', 'yes', 'no', 'no', 'yes']}\n",
    "labels = ['a', 'b', 'c', 'd', 'e', 'f', 'g', 'h', 'i', 'j']"
   ]
  },
  {
   "cell_type": "code",
   "execution_count": 10,
   "metadata": {},
   "outputs": [
    {
     "name": "stdout",
     "output_type": "stream",
     "text": [
      "      name  score\n",
      "b     Dima    9.0\n",
      "d    James    NaN\n",
      "f  Michael   20.0\n",
      "g  Matthew   14.5\n"
     ]
    }
   ],
   "source": [
    "def specific_column_data_frame(data,labels):\n",
    "    '''\n",
    "          Description: \n",
    "                this function is displaying name,score specific columns\n",
    "          Parameters: \n",
    "                data{} : list of key and list elements data\n",
    "                labels[] : list of lebels items\n",
    "          Return : \n",
    "                return specified column rows data frame \n",
    "    '''\n",
    "    data_frame_result=pd.DataFrame(data,index=labels)\n",
    "    selected_rows=data_frame_result.loc[['b','d','f','g'],['name','score']]\n",
    "    return selected_rows\n",
    "\n",
    "\n",
    "def main():\n",
    "    data={'name': ['Anastasia', 'Dima', 'Katherine', 'James', 'Emily', 'Michael',\n",
    "          'Matthew', 'Laura', 'Kevin', 'Jonas'],\n",
    "         'score': [12.5, 9, 16.5, np.nan, 9, 20, 14.5, np.nan, 8, 19],\n",
    "         'attempts': [1, 3, 2, 3, 2, 3, 1, 1, 2, 1],\n",
    "         'qualify': ['yes', 'no', 'yes', 'no', 'no', 'yes', 'yes', 'no', 'no', 'yes']}\n",
    "    labels=['a', 'b', 'c', 'd', 'e', 'f', 'g', 'h', 'i', 'j']\n",
    "    print(specific_column_data_frame(data,labels))\n",
    "\n",
    "\n",
    "if __name__==\"__main__\":\n",
    "    main()"
   ]
  },
  {
   "cell_type": "markdown",
   "metadata": {},
   "source": [
    "10. Write a Python program to select the rows where the number of attempts in the\n",
    "examination is greater than 2.\n",
    "exam_data = {'name': ['Anastasia', 'Dima', 'Katherine', 'James', 'Emily', 'Michael', 'Matthew',\n",
    "'Laura', 'Kevin', 'Jonas'],\n",
    "'score': [12.5, 9, 16.5, np.nan, 9, 20, 14.5, np.nan, 8, 19],\n",
    "'attempts': [1, 3, 2, 3, 2, 3, 1, 1, 2, 1],\n",
    "'qualify': ['yes', 'no', 'yes', 'no', 'no', 'yes', 'yes', 'no', 'no', 'yes']}\n",
    "labels = ['a', 'b', 'c', 'd', 'e', 'f', 'g', 'h', 'i', 'j']"
   ]
  },
  {
   "cell_type": "code",
   "execution_count": 11,
   "metadata": {},
   "outputs": [
    {
     "name": "stdout",
     "output_type": "stream",
     "text": [
      "      name  score  attempts qualify\n",
      "b     Dima    9.0         3      no\n",
      "d    James    NaN         3      no\n",
      "f  Michael   20.0         3     yes\n"
     ]
    }
   ],
   "source": [
    "def attempts_greater_than_two(data,labels):\n",
    "    '''\n",
    "          Description: \n",
    "                this function is displaying name,score specific columns\n",
    "          Parameters: \n",
    "                data{} : list of key and list elements data\n",
    "                labels[] : list of lebels items\n",
    "          Return : \n",
    "                return number of attepts in the examination is greater 2 \n",
    "    '''\n",
    "    data_frame_result=pd.DataFrame(data,index=labels)\n",
    "    result=data_frame_result[data_frame_result['attempts']>2]\n",
    "    return result\n",
    "\n",
    "def main():\n",
    "    data={'name': ['Anastasia', 'Dima', 'Katherine', 'James', 'Emily', 'Michael',\n",
    "          'Matthew', 'Laura', 'Kevin', 'Jonas'],\n",
    "         'score': [12.5, 9, 16.5, np.nan, 9, 20, 14.5, np.nan, 8, 19],\n",
    "         'attempts': [1, 3, 2, 3, 2, 3, 1, 1, 2, 1],\n",
    "         'qualify': ['yes', 'no', 'yes', 'no', 'no', 'yes', 'yes', 'no', 'no', 'yes']}\n",
    "    labels=['a', 'b', 'c', 'd', 'e', 'f', 'g', 'h', 'i', 'j']\n",
    "    print(attempts_greater_than_two(data,labels))\n",
    "\n",
    "\n",
    "if __name__==\"__main__\":\n",
    "    main()"
   ]
  },
  {
   "cell_type": "markdown",
   "metadata": {},
   "source": [
    "11. Write a Python program to count the number of rows and columns of a DataFrame.\n",
    "Sample data:\n",
    "exam_data = {'name': ['Anastasia', 'Dima', 'Katherine', 'James', 'Emily', 'Michael', 'Matthew',\n",
    "'Laura', 'Kevin', 'Jonas'],\n",
    "'score': [12.5, 9, 16.5, np.nan, 9, 20, 14.5, np.nan, 8, 19],\n",
    "'attempts': [1, 3, 2, 3, 2, 3, 1, 1, 2, 1],\n",
    "'qualify': ['yes', 'no', 'yes', 'no', 'no', 'yes', 'yes', 'no', 'no', 'yes']}\n",
    "labels = ['a', 'b', 'c', 'd', 'e', 'f', 'g', 'h', 'i', 'j']"
   ]
  },
  {
   "cell_type": "code",
   "execution_count": 12,
   "metadata": {},
   "outputs": [
    {
     "name": "stdout",
     "output_type": "stream",
     "text": [
      "row count in data frame :10\n",
      "columns count in data frame:4\n"
     ]
    }
   ],
   "source": [
    "def rows_columns_count(data,labels):\n",
    "    '''\n",
    "          Description: \n",
    "                this function is displaying name,score specific columns\n",
    "          Parameters: \n",
    "                data{} : list of key and list elements data\n",
    "                labels[] : list of lebels items\n",
    "          Return : \n",
    "               None\n",
    "    '''\n",
    "    data_frame_result=pd.DataFrame(data,index=labels)\n",
    "    rows=data_frame_result.shape[0]\n",
    "    columns=data_frame_result.shape[1]\n",
    "    print(f\"row count in data frame :{rows}\")\n",
    "    print(f\"columns count in data frame:{columns}\")\n",
    "\n",
    "\n",
    "def main():\n",
    "    data={'name': ['Anastasia', 'Dima', 'Katherine', 'James', 'Emily', 'Michael',\n",
    "          'Matthew', 'Laura', 'Kevin', 'Jonas'],\n",
    "         'score': [12.5, 9, 16.5, np.nan, 9, 20, 14.5, np.nan, 8, 19],\n",
    "         'attempts': [1, 3, 2, 3, 2, 3, 1, 1, 2, 1],\n",
    "         'qualify': ['yes', 'no', 'yes', 'no', 'no', 'yes', 'yes', 'no', 'no', 'yes']}\n",
    "    labels=['a', 'b', 'c', 'd', 'e', 'f', 'g', 'h', 'i', 'j']\n",
    "    rows_columns_count(data,labels)\n",
    "\n",
    "\n",
    "if __name__==\"__main__\":\n",
    "    main()"
   ]
  },
  {
   "cell_type": "markdown",
   "metadata": {},
   "source": [
    "12. Write a Python program to select the rows where the score is missing, i.e. is NaN.\n",
    "exam_data = {'name': ['Anastasia', 'Dima', 'Katherine', 'James', 'Emily', 'Michael', 'Matthew',\n",
    "'Laura', 'Kevin', 'Jonas'],\n",
    "'score': [12.5, 9, 16.5, np.nan, 9, 20, 14.5, np.nan, 8, 19],\n",
    "'attempts': [1, 3, 2, 3, 2, 3, 1, 1, 2, 1],\n",
    "'qualify': ['yes', 'no', 'yes', 'no', 'no', 'yes', 'yes', 'no', 'no', 'yes']}\n",
    "labels = ['a', 'b', 'c', 'd', 'e', 'f', 'g', 'h', 'i', 'j']"
   ]
  },
  {
   "cell_type": "code",
   "execution_count": 13,
   "metadata": {},
   "outputs": [
    {
     "name": "stdout",
     "output_type": "stream",
     "text": [
      "    name  score  attempts qualify\n",
      "d  James    NaN         3      no\n",
      "h  Laura    NaN         1      no\n"
     ]
    }
   ],
   "source": [
    "def score_missing_count(data,labels):\n",
    "    '''\n",
    "          Description: \n",
    "                this function is displaying name,score specific columns\n",
    "          Parameters: \n",
    "                data{} : list of key and list elements data\n",
    "                labels[] : list of lebels items\n",
    "          Return : \n",
    "               returns score missing count \n",
    "    '''\n",
    "    data_frame_result=pd.DataFrame(data,index=labels)\n",
    "    result_count=data_frame_result[data_frame_result['score'].isna()]\n",
    "    return result_count\n",
    "\n",
    "\n",
    "def main():\n",
    "    data={'name': ['Anastasia', 'Dima', 'Katherine', 'James', 'Emily', 'Michael',\n",
    "          'Matthew', 'Laura', 'Kevin', 'Jonas'],\n",
    "         'score': [12.5, 9, 16.5, np.nan, 9, 20, 14.5, np.nan, 8, 19],\n",
    "         'attempts': [1, 3, 2, 3, 2, 3, 1, 1, 2, 1],\n",
    "         'qualify': ['yes', 'no', 'yes', 'no', 'no', 'yes', 'yes', 'no', 'no', 'yes']}\n",
    "    labels=['a', 'b', 'c', 'd', 'e', 'f', 'g', 'h', 'i', 'j']\n",
    "    print(score_missing_count(data,labels))\n",
    "\n",
    "\n",
    "if __name__==\"__main__\":\n",
    "    main()"
   ]
  },
  {
   "cell_type": "markdown",
   "metadata": {},
   "source": [
    "13. Write a Python program to select the rows where number of attempts in the\n",
    "examination is less than 2 and score greater than 15.\n",
    "exam_data = {'name': ['Anastasia', 'Dima', 'Katherine', 'James', 'Emily', 'Michael', 'Matthew',\n",
    "'Laura', 'Kevin', 'Jonas'],\n",
    "'score': [12.5, 9, 16.5, np.nan, 9, 20, 14.5, np.nan, 8, 19],\n",
    "'attempts': [1, 3, 2, 3, 2, 3, 1, 1, 2, 1],\n",
    "'qualify': ['yes', 'no', 'yes', 'no', 'no', 'yes', 'yes', 'no', 'no', 'yes']}\n",
    "labels = ['a', 'b', 'c', 'd', 'e', 'f', 'g', 'h', 'i', 'j']"
   ]
  },
  {
   "cell_type": "code",
   "execution_count": 14,
   "metadata": {},
   "outputs": [
    {
     "name": "stdout",
     "output_type": "stream",
     "text": [
      "    name  score  attempts qualify\n",
      "j  Jonas   19.0         1     yes\n"
     ]
    }
   ],
   "source": [
    "def selcted_rows_method(data,labels):\n",
    "    '''\n",
    "          Description: \n",
    "                this function is displaying name,score specific columns\n",
    "          Parameters: \n",
    "                data{} : list of key and list elements data\n",
    "                labels[] : list of lebels items\n",
    "          Return : \n",
    "               returns score missing count \n",
    "    '''\n",
    "    data_frame_result=pd.DataFrame(data,index=labels)\n",
    "    selected_rows=data_frame_result[(data_frame_result['score']>15) & (data_frame_result['attempts']<2)]\n",
    "    return selected_rows\n",
    "\n",
    "\n",
    "def main():\n",
    "    data={'name': ['Anastasia', 'Dima', 'Katherine', 'James', 'Emily', 'Michael',\n",
    "          'Matthew', 'Laura', 'Kevin', 'Jonas'],\n",
    "         'score': [12.5, 9, 16.5, np.nan, 9, 20, 14.5, np.nan, 8, 19],\n",
    "         'attempts': [1, 3, 2, 3, 2, 3, 1, 1, 2, 1],\n",
    "         'qualify': ['yes', 'no', 'yes', 'no', 'no', 'yes', 'yes', 'no', 'no', 'yes']}\n",
    "    labels=['a', 'b', 'c', 'd', 'e', 'f', 'g', 'h', 'i', 'j']\n",
    "    print(selcted_rows_method(data,labels))\n",
    "\n",
    "\n",
    "if __name__==\"__main__\":\n",
    "    main()"
   ]
  },
  {
   "cell_type": "markdown",
   "metadata": {},
   "source": [
    "14. Write a Python program to change the score in row 'd' to 11.5.\n",
    "exam_data = {'name': ['Anastasia', 'Dima', 'Katherine', 'James', 'Emily', 'Michael', 'Matthew',\n",
    "\n",
    "'Laura', 'Kevin', 'Jonas'],\n",
    "'score': [12.5, 9, 16.5, np.nan, 9, 20, 14.5, np.nan, 8, 19],\n",
    "'attempts': [1, 3, 2, 3, 2, 3, 1, 1, 2, 1],\n",
    "'qualify': ['yes', 'no', 'yes', 'no', 'no', 'yes', 'yes', 'no', 'no', 'yes']}\n",
    "labels = ['a', 'b', 'c', 'd', 'e', 'f', 'g', 'h', 'i', 'j']"
   ]
  },
  {
   "cell_type": "code",
   "execution_count": 15,
   "metadata": {},
   "outputs": [
    {
     "name": "stdout",
     "output_type": "stream",
     "text": [
      "        name  score  attempts qualify\n",
      "a  Anastasia   12.5         1     yes\n",
      "b       Dima    9.0         3      no\n",
      "c  Katherine   16.5         2     yes\n",
      "d      James   11.5         3      no\n",
      "e      Emily    9.0         2      no\n",
      "f    Michael   20.0         3     yes\n",
      "g    Matthew   14.5         1     yes\n",
      "h      Laura    NaN         1      no\n",
      "i      Kevin    8.0         2      no\n",
      "j      Jonas   19.0         1     yes\n"
     ]
    }
   ],
   "source": [
    "def changing_score_data_frame(data,labels):\n",
    "    '''\n",
    "          Description: \n",
    "                this function is displaying name,score specific columns\n",
    "          Parameters: \n",
    "                data{} : list of key and list elements data\n",
    "                labels[] : list of lebels items\n",
    "          Return : \n",
    "               returns data frame after changing \n",
    "    '''\n",
    "    data_frame_result=pd.DataFrame(data,index=labels)\n",
    "    data_frame_result.at['d','score']=11.5\n",
    "    return data_frame_result\n",
    "\n",
    "\n",
    "def main():\n",
    "    data={'name': ['Anastasia', 'Dima', 'Katherine', 'James', 'Emily', 'Michael',\n",
    "          'Matthew', 'Laura', 'Kevin', 'Jonas'],\n",
    "         'score': [12.5, 9, 16.5, np.nan, 9, 20, 14.5, np.nan, 8, 19],\n",
    "         'attempts': [1, 3, 2, 3, 2, 3, 1, 1, 2, 1],\n",
    "         'qualify': ['yes', 'no', 'yes', 'no', 'no', 'yes', 'yes', 'no', 'no', 'yes']}\n",
    "    labels=['a', 'b', 'c', 'd', 'e', 'f', 'g', 'h', 'i', 'j']\n",
    "    print(changing_score_data_frame(data,labels))\n",
    "\n",
    "\n",
    "if __name__==\"__main__\":\n",
    "    main()"
   ]
  },
  {
   "cell_type": "markdown",
   "metadata": {},
   "source": [
    "15. Write a Python program to calculate the sum of the examination attempts by the\n",
    "students.\n",
    "exam_data = {'name': ['Anastasia', 'Dima', 'Katherine', 'James', 'Emily', 'Michael', 'Matthew',\n",
    "'Laura', 'Kevin', 'Jonas'],\n",
    "'score': [12.5, 9, 16.5, np.nan, 9, 20, 14.5, np.nan, 8, 19],\n",
    "'attempts': [1, 3, 2, 3, 2, 3, 1, 1, 2, 1],\n",
    "'qualify': ['yes', 'no', 'yes', 'no', 'no', 'yes', 'yes', 'no', 'no', 'yes']}\n",
    "labels = ['a', 'b', 'c', 'd', 'e', 'f', 'g', 'h', 'i', 'j']"
   ]
  },
  {
   "cell_type": "code",
   "execution_count": 16,
   "metadata": {},
   "outputs": [
    {
     "name": "stdout",
     "output_type": "stream",
     "text": [
      "sum of total attempts is:19\n"
     ]
    }
   ],
   "source": [
    "def sum_of_attemps(data,labels):\n",
    "    '''\n",
    "          Description: \n",
    "                this function is displaying name,score specific columns\n",
    "          Parameters: \n",
    "                data{} : list of key and list elements data\n",
    "                labels[] : list of lebels items\n",
    "          Return : \n",
    "               returns sum of row attepts\n",
    "    '''\n",
    "    data_frame_result=pd.DataFrame(data,index=labels)\n",
    "    result_sum=data_frame_result['attempts'].sum()\n",
    "    return result_sum\n",
    "\n",
    "\n",
    "def main():\n",
    "    data={'name': ['Anastasia', 'Dima', 'Katherine', 'James', 'Emily', 'Michael',\n",
    "          'Matthew', 'Laura', 'Kevin', 'Jonas'],\n",
    "         'score': [12.5, 9, 16.5, np.nan, 9, 20, 14.5, np.nan, 8, 19],\n",
    "         'attempts': [1, 3, 2, 3, 2, 3, 1, 1, 2, 1],\n",
    "         'qualify': ['yes', 'no', 'yes', 'no', 'no', 'yes', 'yes', 'no', 'no', 'yes']}\n",
    "    labels=['a', 'b', 'c', 'd', 'e', 'f', 'g', 'h', 'i', 'j']\n",
    "    print(f\"sum of total attempts is:{sum_of_attemps(data,labels)}\")\n",
    "\n",
    "\n",
    "if __name__==\"__main__\":\n",
    "    main()"
   ]
  },
  {
   "cell_type": "markdown",
   "metadata": {},
   "source": [
    "16. Write a Python program to calculate the mean score for each different student in\n",
    "DataFrame.\n",
    "exam_data = {'name': ['Anastasia', 'Dima', 'Katherine', 'James', 'Emily', 'Michael', 'Matthew',\n",
    "'Laura', 'Kevin', 'Jonas'],\n",
    "'score': [12.5, 9, 16.5, np.nan, 9, 20, 14.5, np.nan, 8, 19],\n",
    "'attempts': [1, 3, 2, 3, 2, 3, 1, 1, 2, 1],\n",
    "'qualify': ['yes', 'no', 'yes', 'no', 'no', 'yes', 'yes', 'no', 'no', 'yes']}\n",
    "labels = ['a', 'b', 'c', 'd', 'e', 'f', 'g', 'h', 'i', 'j']"
   ]
  },
  {
   "cell_type": "code",
   "execution_count": 17,
   "metadata": {},
   "outputs": [
    {
     "name": "stdout",
     "output_type": "stream",
     "text": [
      "mean of students score:name\n",
      "Anastasia    12.5\n",
      "Dima          9.0\n",
      "Emily         9.0\n",
      "James         NaN\n",
      "Jonas        19.0\n",
      "Katherine    16.5\n",
      "Kevin         8.0\n",
      "Laura         NaN\n",
      "Matthew      14.5\n",
      "Michael      20.0\n",
      "Name: score, dtype: float64\n"
     ]
    }
   ],
   "source": [
    "def mean_of_score(data,labels):\n",
    "    '''\n",
    "          Description: \n",
    "                this function is displaying name,score specific columns\n",
    "          Parameters: \n",
    "                data{} : list of key and list elements data\n",
    "                labels[] : list of lebels items\n",
    "          Return : \n",
    "               returns mean of students score\n",
    "    '''\n",
    "    data_frame_result=pd.DataFrame(data,index=labels)\n",
    "    result_mean=data_frame_result.groupby(\"name\")['score'].mean()\n",
    "    return result_mean\n",
    "\n",
    "\n",
    "def main():\n",
    "    data={'name': ['Anastasia', 'Dima', 'Katherine', 'James', 'Emily', 'Michael',\n",
    "          'Matthew', 'Laura', 'Kevin', 'Jonas'],\n",
    "         'score': [12.5, 9, 16.5, np.nan, 9, 20, 14.5, np.nan, 8, 19],\n",
    "         'attempts': [1, 3, 2, 3, 2, 3, 1, 1, 2, 1],\n",
    "         'qualify': ['yes', 'no', 'yes', 'no', 'no', 'yes', 'yes', 'no', 'no', 'yes']}\n",
    "    labels=['a', 'b', 'c', 'd', 'e', 'f', 'g', 'h', 'i', 'j']\n",
    "    print(f\"mean of students score:{mean_of_score(data,labels)}\")\n",
    "\n",
    "\n",
    "if __name__==\"__main__\":\n",
    "    main()"
   ]
  },
  {
   "cell_type": "markdown",
   "metadata": {},
   "source": [
    "17. Write a Python program to append a new row 'k' to data frame with given values for\n",
    "each column. Now delete the new row and return the original DataFrame.\n",
    "exam_data = {'name': ['Anastasia', 'Dima', 'Katherine', 'James', 'Emily', 'Michael', 'Matthew',\n",
    "'Laura', 'Kevin', 'Jonas'],\n",
    "'score': [12.5, 9, 16.5, np.nan, 9, 20, 14.5, np.nan, 8, 19],\n",
    "'attempts': [1, 3, 2, 3, 2, 3, 1, 1, 2, 1],\n",
    "'qualify': ['yes', 'no', 'yes', 'no', 'no', 'yes', 'yes', 'no', 'no', 'yes']}\n",
    "labels = ['a', 'b', 'c', 'd', 'e', 'f', 'g', 'h', 'i', 'j']\n",
    "Values for each column will be:\n",
    "name : \"Suresh\", score: 15.5, attempts: 1, qualify: \"yes\", label: \"k\""
   ]
  },
  {
   "cell_type": "code",
   "execution_count": 18,
   "metadata": {},
   "outputs": [
    {
     "name": "stdout",
     "output_type": "stream",
     "text": [
      "Added row :\n",
      "        name  score  attempts qualify\n",
      "a  Anastasia   12.5         1     yes\n",
      "b       Dima    9.0         3      no\n",
      "c  Katherine   16.5         2     yes\n",
      "d      James    NaN         3      no\n",
      "e      Emily    9.0         2      no\n",
      "f    Michael   20.0         3     yes\n",
      "g    Matthew   14.5         1     yes\n",
      "h      Laura    NaN         1      no\n",
      "i      Kevin    8.0         2      no\n",
      "j      Jonas   19.0         1     yes\n",
      "k     Suresh   15.5         1     yes\n",
      "after removing k value\n",
      "        name  score  attempts qualify\n",
      "a  Anastasia   12.5         1     yes\n",
      "b       Dima    9.0         3      no\n",
      "c  Katherine   16.5         2     yes\n",
      "d      James    NaN         3      no\n",
      "e      Emily    9.0         2      no\n",
      "f    Michael   20.0         3     yes\n",
      "g    Matthew   14.5         1     yes\n",
      "h      Laura    NaN         1      no\n",
      "i      Kevin    8.0         2      no\n",
      "j      Jonas   19.0         1     yes\n"
     ]
    }
   ],
   "source": [
    "def adding_deleting_row(data,labels,new_row):\n",
    "    '''\n",
    "          Description: \n",
    "                this function is displaying name,score specific columns\n",
    "          Parameters: \n",
    "                data{} : list of key and list elements data\n",
    "                labels[] : list of lebels items\n",
    "                new_row[]: adding new row to data frame\n",
    "          Return : \n",
    "               None\n",
    "    '''\n",
    "    data_frame_result=pd.DataFrame(data,index=labels)\n",
    "    data_frame_result.loc['k']=new_row\n",
    "    print(\"Added row :\")\n",
    "    print(data_frame_result)\n",
    "    data_frame_result=data_frame_result.drop('k')\n",
    "    print(\"after removing k value\")\n",
    "    print(data_frame_result)\n",
    "\n",
    "\n",
    "def main():\n",
    "    data={'name': ['Anastasia', 'Dima', 'Katherine', 'James', 'Emily', 'Michael',\n",
    "          'Matthew', 'Laura', 'Kevin', 'Jonas'],\n",
    "         'score': [12.5, 9, 16.5, np.nan, 9, 20, 14.5, np.nan, 8, 19],\n",
    "         'attempts': [1, 3, 2, 3, 2, 3, 1, 1, 2, 1],\n",
    "         'qualify': ['yes', 'no', 'yes', 'no', 'no', 'yes', 'yes', 'no', 'no', 'yes']}\n",
    "    labels=['a', 'b', 'c', 'd', 'e', 'f', 'g', 'h', 'i', 'j']\n",
    "    new_row=pd.Series({'name': \"Suresh\", 'score': 15.5, 'attempts': 1, 'qualify':\"yes\"},name='k')\n",
    "    adding_deleting_row(data,labels,new_row)\n",
    "\n",
    "\n",
    "if __name__==\"__main__\":\n",
    "    main()"
   ]
  },
  {
   "cell_type": "markdown",
   "metadata": {},
   "source": [
    "18. Write a Python program to sort the DataFrame first by 'name' in descending order,\n",
    "then by 'score' in ascending order.\n",
    "exam_data = {'name': ['Anastasia', 'Dima', 'Katherine', 'James', 'Emily', 'Michael', 'Matthew',\n",
    "'Laura', 'Kevin', 'Jonas'],\n",
    "'score': [12.5, 9, 16.5, np.nan, 9, 20, 14.5, np.nan, 8, 19],\n",
    "'attempts': [1, 3, 2, 3, 2, 3, 1, 1, 2, 1],\n",
    "\n",
    "'qualify': ['yes', 'no', 'yes', 'no', 'no', 'yes', 'yes', 'no', 'no', 'yes']}\n",
    "labels = ['a', 'b', 'c', 'd', 'e', 'f', 'g', 'h', 'i', 'j']\n",
    "Values for each column will be:\n",
    "name : \"Suresh\", score: 15.5, attempts: 1, qualify: \"yes\", label: \"k\""
   ]
  },
  {
   "cell_type": "code",
   "execution_count": 19,
   "metadata": {},
   "outputs": [
    {
     "name": "stdout",
     "output_type": "stream",
     "text": [
      "Added row :\n",
      "        name  score  attempts qualify\n",
      "a  Anastasia   12.5         1     yes\n",
      "b       Dima    9.0         3      no\n",
      "c  Katherine   16.5         2     yes\n",
      "d      James    NaN         3      no\n",
      "e      Emily    9.0         2      no\n",
      "f    Michael   20.0         3     yes\n",
      "g    Matthew   14.5         1     yes\n",
      "h      Laura    NaN         1      no\n",
      "i      Kevin    8.0         2      no\n",
      "j      Jonas   19.0         1     yes\n",
      "k     Suresh   15.5         1     yes\n",
      "after sorting name descending score is ascending order\n",
      "        name  score  attempts qualify\n",
      "k     Suresh   15.5         1     yes\n",
      "f    Michael   20.0         3     yes\n",
      "g    Matthew   14.5         1     yes\n",
      "h      Laura    NaN         1      no\n",
      "i      Kevin    8.0         2      no\n",
      "c  Katherine   16.5         2     yes\n",
      "j      Jonas   19.0         1     yes\n",
      "d      James    NaN         3      no\n",
      "e      Emily    9.0         2      no\n",
      "b       Dima    9.0         3      no\n",
      "a  Anastasia   12.5         1     yes\n"
     ]
    }
   ],
   "source": [
    "def data_frame_sorted_order(data,labels,new_row):\n",
    "    '''\n",
    "          Description: \n",
    "                this function is sorted order based on name descending score is ascending order\n",
    "          Parameters: \n",
    "                data{} : list of key and list elements data\n",
    "                labels[] : list of lebels items\n",
    "                new_row: adding new row to data frame\n",
    "          Return : \n",
    "               None\n",
    "    '''\n",
    "    data_frame_result=pd.DataFrame(data,index=labels)\n",
    "    data_frame_result.loc['k']=new_row\n",
    "    print(\"Added row :\")\n",
    "    print(data_frame_result)\n",
    "    print(\"after sorting name descending score is ascending order\")\n",
    "    data_frame_result=data_frame_result.sort_values(by=['name', 'score'], ascending=[False, True])\n",
    "    print(data_frame_result)\n",
    "\n",
    "\n",
    "def main():\n",
    "    data={'name': ['Anastasia', 'Dima', 'Katherine', 'James', 'Emily', 'Michael',\n",
    "          'Matthew', 'Laura', 'Kevin', 'Jonas'],\n",
    "         'score': [12.5, 9, 16.5, np.nan, 9, 20, 14.5, np.nan, 8, 19],\n",
    "         'attempts': [1, 3, 2, 3, 2, 3, 1, 1, 2, 1],\n",
    "         'qualify': ['yes', 'no', 'yes', 'no', 'no', 'yes', 'yes', 'no', 'no', 'yes']}\n",
    "    labels=['a', 'b', 'c', 'd', 'e', 'f', 'g', 'h', 'i', 'j']\n",
    "    new_row=pd.Series({'name': \"Suresh\", 'score': 15.5, 'attempts': 1, 'qualify':\"yes\"},name='k')\n",
    "    data_frame_sorted_order(data,labels,new_row)\n",
    "\n",
    "\n",
    "if __name__==\"__main__\":\n",
    "    main()"
   ]
  },
  {
   "cell_type": "markdown",
   "metadata": {},
   "source": []
  },
  {
   "cell_type": "markdown",
   "metadata": {},
   "source": [
    "19. Write a Python program to replace the 'qualify' column contains the values 'yes' and\n",
    "'no' with True and False.\n",
    "exam_data = {'name': ['Anastasia', 'Dima', 'Katherine', 'James', 'Emily', 'Michael', 'Matthew',\n",
    "'Laura', 'Kevin', 'Jonas'],\n",
    "'score': [12.5, 9, 16.5, np.nan, 9, 20, 14.5, np.nan, 8, 19],\n",
    "'attempts': [1, 3, 2, 3, 2, 3, 1, 1, 2, 1],\n",
    "'qualify': ['yes', 'no', 'yes', 'no', 'no', 'yes', 'yes', 'no', 'no', 'yes']}\n",
    "labels = ['a', 'b', 'c', 'd', 'e', 'f', 'g', 'h', 'i', 'j']"
   ]
  },
  {
   "cell_type": "code",
   "execution_count": 20,
   "metadata": {},
   "outputs": [
    {
     "name": "stdout",
     "output_type": "stream",
     "text": [
      "        name  score  attempts  qualify\n",
      "a  Anastasia   12.5         1     True\n",
      "b       Dima    9.0         3    False\n",
      "c  Katherine   16.5         2     True\n",
      "d      James    NaN         3    False\n",
      "e      Emily    9.0         2    False\n",
      "f    Michael   20.0         3     True\n",
      "g    Matthew   14.5         1     True\n",
      "h      Laura    NaN         1    False\n",
      "i      Kevin    8.0         2    False\n",
      "j      Jonas   19.0         1     True\n"
     ]
    },
    {
     "name": "stderr",
     "output_type": "stream",
     "text": [
      "C:\\Users\\Venkatesh Bingi\\AppData\\Local\\Temp\\ipykernel_2756\\835690048.py:13: FutureWarning: Downcasting behavior in `replace` is deprecated and will be removed in a future version. To retain the old behavior, explicitly call `result.infer_objects(copy=False)`. To opt-in to the future behavior, set `pd.set_option('future.no_silent_downcasting', True)`\n",
      "  data_frame_result['qualify']=data_frame_result['qualify'].replace({'yes':True,'no':False})\n"
     ]
    }
   ],
   "source": [
    "def replace_qualify_rows(data,labels):\n",
    "    '''\n",
    "          Description: \n",
    "                this function is replacing colunm yes and no with True and False\n",
    "          Parameters: \n",
    "                data{} : list of key and list elements data\n",
    "                labels[] : list of lebels items\n",
    "          Return : \n",
    "               returns the after replacing \n",
    "    '''\n",
    "    data_frame_result=pd.DataFrame(data,index=labels)\n",
    "    \n",
    "    data_frame_result['qualify']=data_frame_result['qualify'].replace({'yes':True,'no':False})\n",
    "    return data_frame_result\n",
    "\n",
    "\n",
    "def main():\n",
    "    data={'name': ['Anastasia', 'Dima', 'Katherine', 'James', 'Emily', 'Michael',\n",
    "          'Matthew', 'Laura', 'Kevin', 'Jonas'],\n",
    "         'score': [12.5, 9, 16.5, np.nan, 9, 20, 14.5, np.nan, 8, 19],\n",
    "         'attempts': [1, 3, 2, 3, 2, 3, 1, 1, 2, 1],\n",
    "         'qualify': ['yes', 'no', 'yes', 'no', 'no', 'yes', 'yes', 'no', 'no', 'yes']}\n",
    "    labels=['a', 'b', 'c', 'd', 'e', 'f', 'g', 'h', 'i', 'j']\n",
    "    print(replace_qualify_rows(data,labels))\n",
    "\n",
    "\n",
    "if __name__==\"__main__\":\n",
    "    main()"
   ]
  },
  {
   "cell_type": "markdown",
   "metadata": {},
   "source": [
    "20.Write a Python program to delete the 'attempts' column from the DataFrame.\n",
    "exam_data = {'name': ['Anastasia', 'Dima', 'Katherine', 'James', 'Emily', 'Michael', 'Matthew',\n",
    "'Laura', 'Kevin', 'Jonas'],\n",
    "'score': [12.5, 9, 16.5, np.nan, 9, 20, 14.5, np.nan, 8, 19],\n",
    "'attempts': [1, 3, 2, 3, 2, 3, 1, 1, 2, 1],\n",
    "'qualify': ['yes', 'no', 'yes', 'no', 'no', 'yes', 'yes', 'no', 'no', 'yes']}\n",
    "labels = ['a', 'b', 'c', 'd', 'e', 'f', 'g', 'h', 'i', 'j']"
   ]
  },
  {
   "cell_type": "code",
   "execution_count": 28,
   "metadata": {},
   "outputs": [
    {
     "name": "stdout",
     "output_type": "stream",
     "text": [
      "        name  score qualify\n",
      "a  Anastasia   12.5     yes\n",
      "b       Dima    9.0      no\n",
      "c  Katherine   16.5     yes\n",
      "d      James    NaN      no\n",
      "e      Emily    9.0      no\n",
      "f    Michael   20.0     yes\n",
      "g    Matthew   14.5     yes\n",
      "h      Laura    NaN      no\n",
      "i      Kevin    8.0      no\n",
      "j      Jonas   19.0     yes\n"
     ]
    }
   ],
   "source": [
    "def deleted_attempts_column(data,labels):\n",
    "    '''\n",
    "          Description: \n",
    "                this function is deleting column from data frame\n",
    "          Parameters: \n",
    "                data{} : list of key and list elements data\n",
    "                labels[] : list of lebels items\n",
    "          Return : \n",
    "               returns the after deleting column\n",
    "    '''\n",
    "    data_frame_result=pd.DataFrame(data,index=labels)\n",
    "    \n",
    "    data_frame_result=data_frame_result.drop('attempts',axis=1)\n",
    "    return data_frame_result\n",
    "\n",
    "def main():\n",
    "    data={'name': ['Anastasia', 'Dima', 'Katherine', 'James', 'Emily', 'Michael',\n",
    "          'Matthew', 'Laura', 'Kevin', 'Jonas'],\n",
    "         'score': [12.5, 9, 16.5, np.nan, 9, 20, 14.5, np.nan, 8, 19],\n",
    "         'attempts': [1, 3, 2, 3, 2, 3, 1, 1, 2, 1],\n",
    "         'qualify': ['yes', 'no', 'yes', 'no', 'no', 'yes', 'yes', 'no', 'no', 'yes']}\n",
    "    labels=['a', 'b', 'c', 'd', 'e', 'f', 'g', 'h', 'i', 'j']\n",
    "    print(deleted_attempts_column(data,labels))\n",
    "\n",
    "\n",
    "if __name__==\"__main__\":\n",
    "    main()"
   ]
  },
  {
   "cell_type": "markdown",
   "metadata": {},
   "source": [
    "21.Write a Python program to insert a new column in existing DataFrame.\n",
    "exam_data = {'name': ['Anastasia', 'Dima', 'Katherine', 'James', 'Emily', 'Michael', 'Matthew',\n",
    "'Laura', 'Kevin', 'Jonas'],\n",
    "'score': [12.5, 9, 16.5, np.nan, 9, 20, 14.5, np.nan, 8, 19],\n",
    "'attempts': [1, 3, 2, 3, 2, 3, 1, 1, 2, 1],\n",
    "'qualify': ['yes', 'no', 'yes', 'no', 'no', 'yes', 'yes', 'no', 'no', 'yes']}\n",
    "labels = ['a', 'b', 'c', 'd', 'e', 'f', 'g', 'h', 'i', 'j']"
   ]
  },
  {
   "cell_type": "code",
   "execution_count": 22,
   "metadata": {},
   "outputs": [
    {
     "name": "stdout",
     "output_type": "stream",
     "text": [
      "        name  score  attempts qualify  age\n",
      "a  Anastasia   12.5         1     yes   23\n",
      "b       Dima    9.0         3      no   24\n",
      "c  Katherine   16.5         2     yes   26\n",
      "d      James    NaN         3      no   26\n",
      "e      Emily    9.0         2      no   47\n",
      "f    Michael   20.0         3     yes   45\n",
      "g    Matthew   14.5         1     yes   21\n",
      "h      Laura    NaN         1      no   18\n",
      "i      Kevin    8.0         2      no   19\n",
      "j      Jonas   19.0         1     yes   20\n"
     ]
    }
   ],
   "source": [
    "def adding_column_exist_data_frame(data,labels):\n",
    "    '''\n",
    "          Description: \n",
    "                this function is deleting column from data frame\n",
    "          Parameters: \n",
    "                data{} : list of key and list elements data\n",
    "                labels[] : list of lebels items\n",
    "          Return : \n",
    "               returns the after deleting column\n",
    "    '''\n",
    "    data_frame_result=pd.DataFrame(data,index=labels)\n",
    "    \n",
    "    data_frame_result['age']=[23,24,26,26,47,45,21,18,19,20]\n",
    "    return data_frame_result\n",
    "\n",
    "def main():\n",
    "    data={'name': ['Anastasia', 'Dima', 'Katherine', 'James', 'Emily', 'Michael',\n",
    "          'Matthew', 'Laura', 'Kevin', 'Jonas'],\n",
    "         'score': [12.5, 9, 16.5, np.nan, 9, 20, 14.5, np.nan, 8, 19],\n",
    "         'attempts': [1, 3, 2, 3, 2, 3, 1, 1, 2, 1],\n",
    "         'qualify': ['yes', 'no', 'yes', 'no', 'no', 'yes', 'yes', 'no', 'no', 'yes']}\n",
    "    labels=['a', 'b', 'c', 'd', 'e', 'f', 'g', 'h', 'i', 'j']\n",
    "    print(adding_column_exist_data_frame(data,labels))\n",
    "\n",
    "\n",
    "if __name__==\"__main__\":\n",
    "    main()"
   ]
  },
  {
   "cell_type": "markdown",
   "metadata": {},
   "source": [
    "22.Write a Python program to iterate over rows in a DataFrame."
   ]
  },
  {
   "cell_type": "code",
   "execution_count": 23,
   "metadata": {},
   "outputs": [
    {
     "name": "stdout",
     "output_type": "stream",
     "text": [
      "Index: a\n",
      "Name: Anastasia, Score: 12.5, Attempts: 1, Qualify: yes\n",
      "----------------------------------------\n",
      "Index: b\n",
      "Name: Dima, Score: 9.0, Attempts: 3, Qualify: no\n",
      "----------------------------------------\n",
      "Index: c\n",
      "Name: Katherine, Score: 16.5, Attempts: 2, Qualify: yes\n",
      "----------------------------------------\n",
      "Index: d\n",
      "Name: James, Score: nan, Attempts: 3, Qualify: no\n",
      "----------------------------------------\n",
      "Index: e\n",
      "Name: Emily, Score: 9.0, Attempts: 2, Qualify: no\n",
      "----------------------------------------\n",
      "Index: f\n",
      "Name: Michael, Score: 20.0, Attempts: 3, Qualify: yes\n",
      "----------------------------------------\n",
      "Index: g\n",
      "Name: Matthew, Score: 14.5, Attempts: 1, Qualify: yes\n",
      "----------------------------------------\n",
      "Index: h\n",
      "Name: Laura, Score: nan, Attempts: 1, Qualify: no\n",
      "----------------------------------------\n",
      "Index: i\n",
      "Name: Kevin, Score: 8.0, Attempts: 2, Qualify: no\n",
      "----------------------------------------\n",
      "Index: j\n",
      "Name: Jonas, Score: 19.0, Attempts: 1, Qualify: yes\n",
      "----------------------------------------\n"
     ]
    }
   ],
   "source": [
    "def iterate_row_data_frame(data,labels):\n",
    "    '''\n",
    "          Description: \n",
    "                this function is iterate row from data frame\n",
    "          Parameters: \n",
    "                data{} : list of key and list elements data\n",
    "                labels[] : list of lebels items\n",
    "          Return : \n",
    "               None\n",
    "    '''\n",
    "    data_frame=pd.DataFrame(data,index=labels)\n",
    "    for index, row in data_frame.iterrows():\n",
    "        print(f\"Index: {index}\")\n",
    "        print(f\"Name: {row['name']}, Score: {row['score']}, Attempts: {row['attempts']}, Qualify: {row['qualify']}\")\n",
    "        print(\"-\" * 40)\n",
    "    \n",
    "\n",
    "def main():\n",
    "    data={'name': ['Anastasia', 'Dima', 'Katherine', 'James', 'Emily', 'Michael',\n",
    "          'Matthew', 'Laura', 'Kevin', 'Jonas'],\n",
    "         'score': [12.5, 9, 16.5, np.nan, 9, 20, 14.5, np.nan, 8, 19],\n",
    "         'attempts': [1, 3, 2, 3, 2, 3, 1, 1, 2, 1],\n",
    "         'qualify': ['yes', 'no', 'yes', 'no', 'no', 'yes', 'yes', 'no', 'no', 'yes']}\n",
    "    labels=['a', 'b', 'c', 'd', 'e', 'f', 'g', 'h', 'i', 'j']\n",
    "    iterate_row_data_frame(data,labels)\n",
    "\n",
    "\n",
    "if __name__==\"__main__\":\n",
    "    main()"
   ]
  },
  {
   "cell_type": "markdown",
   "metadata": {},
   "source": []
  },
  {
   "cell_type": "markdown",
   "metadata": {},
   "source": [
    "23. Write a Python program to get list from DataFrame column headers.\n",
    "Sample data:\n",
    "exam_data = {'name': ['Anastasia', 'Dima', 'Katherine', 'James', 'Emily', 'Michael', 'Matthew',\n",
    "'Laura', 'Kevin', 'Jonas'],\n",
    "'score': [12.5, 9, 16.5, np.nan, 9, 20, 14.5, np.nan, 8, 19],\n",
    "'attempts': [1, 3, 2, 3, 2, 3, 1, 1, 2, 1],\n",
    "\n",
    "'qualify': ['yes', 'no', 'yes', 'no', 'no', 'yes', 'yes', 'no', 'no', 'yes']}\n",
    "labels = ['a', 'b', 'c', 'd', 'e', 'f', 'g', 'h', 'i', 'j']"
   ]
  },
  {
   "cell_type": "code",
   "execution_count": 24,
   "metadata": {},
   "outputs": [
    {
     "name": "stdout",
     "output_type": "stream",
     "text": [
      "columns of data frame are: ['name', 'score', 'attempts', 'qualify']\n"
     ]
    }
   ],
   "source": [
    "def column_headers(data,labels):\n",
    "    '''\n",
    "          Description: \n",
    "                this function is getting column headers\n",
    "          Parameters: \n",
    "                data{} : list of key and list elements data\n",
    "                labels[] : list of lebels items\n",
    "          Return : \n",
    "               returns the only colums of data frame\n",
    "    '''\n",
    "    data_frame=pd.DataFrame(data,index=labels)\n",
    "    columns_result=data_frame.columns.tolist()\n",
    "    return columns_result\n",
    "    \n",
    "\n",
    "def main():\n",
    "    data={'name': ['Anastasia', 'Dima', 'Katherine', 'James', 'Emily', 'Michael',\n",
    "          'Matthew', 'Laura', 'Kevin', 'Jonas'],\n",
    "         'score': [12.5, 9, 16.5, np.nan, 9, 20, 14.5, np.nan, 8, 19],\n",
    "         'attempts': [1, 3, 2, 3, 2, 3, 1, 1, 2, 1],\n",
    "         'qualify': ['yes', 'no', 'yes', 'no', 'no', 'yes', 'yes', 'no', 'no', 'yes']}\n",
    "    labels=['a', 'b', 'c', 'd', 'e', 'f', 'g', 'h', 'i', 'j']\n",
    "    print(\"columns of data frame are:\",column_headers(data,labels))\n",
    "\n",
    "\n",
    "if __name__==\"__main__\":\n",
    "    main()"
   ]
  }
 ],
 "metadata": {
  "kernelspec": {
   "display_name": "Python 3",
   "language": "python",
   "name": "python3"
  },
  "language_info": {
   "codemirror_mode": {
    "name": "ipython",
    "version": 3
   },
   "file_extension": ".py",
   "mimetype": "text/x-python",
   "name": "python",
   "nbconvert_exporter": "python",
   "pygments_lexer": "ipython3",
   "version": "3.10.4"
  }
 },
 "nbformat": 4,
 "nbformat_minor": 2
}
