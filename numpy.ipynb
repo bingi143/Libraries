{
 "cells": [
  {
   "cell_type": "markdown",
   "metadata": {},
   "source": [
    "                                     Numpy"
   ]
  },
  {
   "cell_type": "markdown",
   "metadata": {},
   "source": [
    "'''<br>\n",
    "\n",
    "@Author: Venkatesh <br>\n",
    "@Date: 2024-08-21 18:00:30 <br>\n",
    "@Last Modified by: Author Name <br>\n",
    "@Last Modified time: 2024-08-21 18:00:30 <br>\n",
    "@Title : Program numpy  <br>\n",
    "\n",
    "''' "
   ]
  },
  {
   "cell_type": "code",
   "execution_count": 50,
   "metadata": {},
   "outputs": [],
   "source": [
    "import numpy as np\n",
    "import os\n"
   ]
  },
  {
   "cell_type": "markdown",
   "metadata": {},
   "source": [
    "1. Write a Python program to convert a list of numeric value into a one-dimensional\n",
    "NumPy array."
   ]
  },
  {
   "cell_type": "code",
   "execution_count": 51,
   "metadata": {},
   "outputs": [
    {
     "name": "stdout",
     "output_type": "stream",
     "text": [
      "One dimentional numpy array:[ 12.23  13.32 100.    36.32]\n"
     ]
    }
   ],
   "source": [
    "def one_dimention_print_method(list_items):\n",
    "    '''\n",
    "          Description: \n",
    "                this function is converting list to float array one dimentional\n",
    "          Parameters: \n",
    "                list_items(list_items):list of items\n",
    "          Return : \n",
    "                returns one dimentional numpy array\n",
    "    '''\n",
    "    result_array=np.asarray(list_items,dtype=float)\n",
    "    return result_array\n",
    "\n",
    "\n",
    "def main():\n",
    "    list_items=[12.23,13.32,100,36.32]\n",
    "    print(f\"One dimentional numpy array:{one_dimention_print_method(list_items)}\")\n",
    "\n",
    "\n",
    "if __name__==\"__main__\":\n",
    "    main()"
   ]
  },
  {
   "cell_type": "markdown",
   "metadata": {},
   "source": [
    "2. Create a 3x3 matrix with values ranging from 2 to 10."
   ]
  },
  {
   "cell_type": "code",
   "execution_count": 52,
   "metadata": {},
   "outputs": [
    {
     "name": "stdout",
     "output_type": "stream",
     "text": [
      "3*3 matrix is :\n",
      "[[ 2  3  4]\n",
      " [ 5  6  7]\n",
      " [ 8  9 10]]\n"
     ]
    }
   ],
   "source": [
    "def matrix_method(start,end):\n",
    "    '''\n",
    "          Description: \n",
    "                this function is printing 3*3 matrix 2 to 10\n",
    "          Parameters: \n",
    "                start (int): starting value\n",
    "                end (int): ending value\n",
    "          Return : \n",
    "                returns 3*3 matrix\n",
    "    '''\n",
    "    result=np.arange(start,end)\n",
    "    return result.reshape(3,3)\n",
    "\n",
    "\n",
    "def main():\n",
    "\n",
    "    start=int(input(\"enter staring value\"))\n",
    "    end=int(input(\"enter ending value ending value is exclude:\"))\n",
    "    print(\"3*3 matrix is :\")\n",
    "    print(f\"{matrix_method(start,end)}\")\n",
    "\n",
    "\n",
    "if __name__==\"__main__\":\n",
    "    main()\n",
    "\n",
    "\n",
    "\n",
    "\n"
   ]
  },
  {
   "cell_type": "markdown",
   "metadata": {},
   "source": [
    "3.Write a Python program to create a null vector of size 10 and update sixth value to 11.\n",
    "[ 0. 0. 0. 0. 0. 0. 0. 0. 0. 0.]\n",
    "Update sixth value to 11\n",
    "[ 0. 0. 0. 0. 0. 0. 11. 0. 0. 0.]"
   ]
  },
  {
   "cell_type": "code",
   "execution_count": 53,
   "metadata": {},
   "outputs": [
    {
     "name": "stdout",
     "output_type": "stream",
     "text": [
      "null vector: [0. 0. 0. 0. 0. 0. 0. 0. 0. 0.]\n",
      "after updating:[ 0.  0.  0.  0.  0. 11.  0.  0.  0.  0.]\n"
     ]
    }
   ],
   "source": [
    "def changing_value(vector,position,value):\n",
    "    '''\n",
    "          Description: \n",
    "                this function is updating value in null vector\n",
    "          Parameters: \n",
    "                vector[]: list of null vector\n",
    "                postion(int): which position whant to change\n",
    "                value(int): update value\n",
    "          Return : \n",
    "                returns updated value postion 10 \n",
    "    '''\n",
    "    vector[position]=value\n",
    "    return vector\n",
    "\n",
    "\n",
    "def create_null_velctor():\n",
    "    '''\n",
    "          Description: \n",
    "                this function is creating null vector \n",
    "          Parameters: \n",
    "                no paramters\n",
    "          Return : \n",
    "                returns 1d array with length 10\n",
    "    '''\n",
    "    \n",
    "    return np.zeros(10)\n",
    "\n",
    "\n",
    "def main():\n",
    "    position=5\n",
    "    value=11\n",
    "    print(\"null vector:\",create_null_velctor())\n",
    "    print(f\"after updating:{changing_value(create_null_velctor(),position,value)}\")\n",
    "\n",
    "    \n",
    "if __name__==\"__main__\":\n",
    "    main()"
   ]
  },
  {
   "cell_type": "markdown",
   "metadata": {},
   "source": [
    "4. Write a Python program to reverse an array (first element becomes last).\n",
    "Original array:\n",
    "[12 13 14 15 16 17 18 19 20 21 22 23 24 25 26 27 28 29 30 31 32 33 34 35 36 37]\n",
    "Reverse array:\n",
    "[37 36 35 34 33 32 31 30 29 28 27 26 25 24 23 22 21 20 19 18 17 16 15 14 13 12]"
   ]
  },
  {
   "cell_type": "code",
   "execution_count": 54,
   "metadata": {},
   "outputs": [
    {
     "name": "stdout",
     "output_type": "stream",
     "text": [
      "original array: [12 13 14 15 16 17 18 19 20 21 22 23 24 25 26 27 28 29 30 31 32 33 34 35\n",
      " 36 37]\n",
      "reversing array: [37 36 35 34 33 32 31 30 29 28 27 26 25 24 23 22 21 20 19 18 17 16 15 14\n",
      " 13 12]\n"
     ]
    }
   ],
   "source": [
    "def reversing_array(original_array):\n",
    "    '''\n",
    "          Description: \n",
    "                this function is reversing an array\n",
    "          Parameters: \n",
    "                original_array: a list of array items\n",
    "          Return : \n",
    "                None\n",
    "    '''\n",
    "    print(\"original array:\",original_array)\n",
    "    reverse_result=original_array[::-1]\n",
    "    print(\"reversing array:\",reverse_result)\n",
    "\n",
    "\n",
    "def main():\n",
    "\n",
    "    original_array=np.arange(12,38)\n",
    "    reversing_array(original_array)\n",
    "\n",
    "\n",
    "if __name__==\"__main__\":\n",
    "    main()"
   ]
  },
  {
   "cell_type": "markdown",
   "metadata": {},
   "source": [
    "5. Write a Python program to create a 2d array with 1 on the border and 0 inside.\n",
    "Expected Output:\n",
    "Original array:\n",
    "[[ 1. 1. 1. 1. 1.]\n",
    "[ 1. 1. 1. 1. 1.]\n",
    "[ 1. 1. 1. 1. 1.]\n",
    "[ 1. 1. 1. 1. 1.]\n",
    "[ 1. 1. 1. 1. 1.]]\n",
    "\n",
    "1 on the border and 0 inside in the array\n",
    "[[ 1. 1. 1. 1. 1.]\n",
    "[ 1. 0. 0. 0. 1.]\n",
    "[ 1. 0. 0. 0. 1.]\n",
    "[ 1. 0. 0. 0. 1.]\n",
    "[ 1. 1. 1. 1. 1.]]"
   ]
  },
  {
   "cell_type": "code",
   "execution_count": 55,
   "metadata": {},
   "outputs": [
    {
     "name": "stdout",
     "output_type": "stream",
     "text": [
      "original array:\n",
      "[[1. 1. 1. 1. 1.]\n",
      " [1. 1. 1. 1. 1.]\n",
      " [1. 1. 1. 1. 1.]\n",
      " [1. 1. 1. 1. 1.]\n",
      " [1. 1. 1. 1. 1.]]\n",
      "1 border 0 inside in array:\n",
      "[[1. 1. 1. 1. 1.]\n",
      " [1. 0. 0. 0. 1.]\n",
      " [1. 0. 0. 0. 1.]\n",
      " [1. 0. 0. 0. 1.]\n",
      " [1. 1. 1. 1. 1.]]\n"
     ]
    }
   ],
   "source": [
    "def array_border_ones(original_array):\n",
    "    '''\n",
    "          Description: \n",
    "                this function is adding 0's in inside 2d array borders 1's\n",
    "          Parameters: \n",
    "                original_array: a list of array items\n",
    "          Return : \n",
    "                None\n",
    "    '''\n",
    "    print(\"original array:\")\n",
    "    print(original_array)\n",
    "    original_array[1:-1,1:-1]=0\n",
    "    print(\"1 border 0 inside in array:\")\n",
    "    print(original_array)\n",
    "\n",
    "\n",
    "def main():\n",
    "\n",
    "    original_array=np.ones([5,5])\n",
    "    array_border_ones(original_array)\n",
    "\n",
    "\n",
    "if __name__==\"__main__\":\n",
    "    main()"
   ]
  },
  {
   "cell_type": "markdown",
   "metadata": {},
   "source": [
    "6. Write a Python program to add a border (filled with 0's) around an existing array.\n",
    "Expected Output:\n",
    "Original array:\n",
    "[[ 1. 1. 1.]\n",
    "[ 1. 1. 1.]\n",
    "[ 1. 1. 1.]]\n",
    "1 on the border and 0 inside in the array\n",
    "[[ 0. 0. 0. 0. 0.]\n",
    "[ 0. 1. 1. 1. 0.]\n",
    "[ 0. 1. 1. 1. 0.]\n",
    "[ 0. 1. 1. 1. 0.]\n",
    "[ 0. 0. 0. 0. 0.]]"
   ]
  },
  {
   "cell_type": "code",
   "execution_count": 56,
   "metadata": {},
   "outputs": [
    {
     "name": "stdout",
     "output_type": "stream",
     "text": [
      "original array:\n",
      "[[0. 0. 0. 0. 0.]\n",
      " [0. 0. 0. 0. 0.]\n",
      " [0. 0. 0. 0. 0.]\n",
      " [0. 0. 0. 0. 0.]\n",
      " [0. 0. 0. 0. 0.]]\n",
      "0 border 1 inside in array:\n",
      "[[0. 0. 0. 0. 0.]\n",
      " [0. 1. 1. 1. 0.]\n",
      " [0. 1. 1. 1. 0.]\n",
      " [0. 1. 1. 1. 0.]\n",
      " [0. 0. 0. 0. 0.]]\n"
     ]
    }
   ],
   "source": [
    "def array_border_zeros(original_array):\n",
    "    '''\n",
    "          Description: \n",
    "                this function is adding 0's in inside 2d array borders 1's\n",
    "          Parameters: \n",
    "                original_array: a list of array items\n",
    "          Return : \n",
    "                None\n",
    "    '''\n",
    "    print(\"original array:\")\n",
    "    print(original_array)\n",
    "    original_array[1:-1,1:-1]=1\n",
    "    print(\"0 border 1 inside in array:\")\n",
    "    print(original_array)\n",
    "\n",
    "\n",
    "def main():\n",
    "\n",
    "    original_array=np.zeros([5,5])\n",
    "    array_border_zeros(original_array)\n",
    "\n",
    "\n",
    "if __name__==\"__main__\":\n",
    "    main()"
   ]
  },
  {
   "cell_type": "markdown",
   "metadata": {},
   "source": [
    "7.Write a Python program to create a 8x8 matrix and fill it with a checkerboard pattern.\n",
    "Checkerboard pattern:\n",
    "[[0 1 0 1 0 1 0 1]\n",
    "[1 0 1 0 1 0 1 0]\n",
    "[0 1 0 1 0 1 0 1]\n",
    "[1 0 1 0 1 0 1 0]\n",
    "[0 1 0 1 0 1 0 1]\n",
    "[1 0 1 0 1 0 1 0]\n",
    "[0 1 0 1 0 1 0 1]\n",
    "[1 0 1 0 1 0 1 0]]"
   ]
  },
  {
   "cell_type": "code",
   "execution_count": 57,
   "metadata": {},
   "outputs": [
    {
     "name": "stdout",
     "output_type": "stream",
     "text": [
      "check board pattern:\n",
      "[[0. 1. 0. 1. 0. 1. 0. 1.]\n",
      " [1. 0. 1. 0. 1. 0. 1. 0.]\n",
      " [0. 1. 0. 1. 0. 1. 0. 1.]\n",
      " [1. 0. 1. 0. 1. 0. 1. 0.]\n",
      " [0. 1. 0. 1. 0. 1. 0. 1.]\n",
      " [1. 0. 1. 0. 1. 0. 1. 0.]\n",
      " [0. 1. 0. 1. 0. 1. 0. 1.]\n",
      " [1. 0. 1. 0. 1. 0. 1. 0.]]\n"
     ]
    }
   ],
   "source": [
    "def check_board_pattern(original_array):\n",
    "    '''\n",
    "          Description: \n",
    "                this function is check board pattern 0's and 1's\n",
    "          Parameters: \n",
    "                original_array: a list of array items\n",
    "          Return : \n",
    "                returns 8*8 matrix check board pattern\n",
    "    '''\n",
    "    original_array[1::2,::2]=1\n",
    "    original_array[::2,1::2]=1\n",
    "    print(\"check board pattern:\")\n",
    "    return original_array\n",
    "\n",
    "\n",
    "def main():\n",
    "\n",
    "    original_array=np.zeros([8,8])\n",
    "    print(check_board_pattern(original_array))\n",
    "\n",
    "\n",
    "if __name__==\"__main__\":\n",
    "    main()"
   ]
  },
  {
   "cell_type": "markdown",
   "metadata": {},
   "source": [
    "8. Write a Python program to convert a list and tuple into arrays.\n",
    "List to array:\n",
    "[1 2 3 4 5 6 7 8]\n",
    "Tuple to array:\n",
    "[[8 4 6]\n",
    "[1 2 3]]"
   ]
  },
  {
   "cell_type": "code",
   "execution_count": 58,
   "metadata": {},
   "outputs": [
    {
     "name": "stdout",
     "output_type": "stream",
     "text": [
      "list to array:\n",
      "tuple to array:\n",
      "[[8 4 6]\n",
      " [1 2 3]]\n"
     ]
    }
   ],
   "source": [
    "def conver_list_array(list_ex):\n",
    "    '''\n",
    "          Description: \n",
    "                this function is convering list to array\n",
    "          Parameters: \n",
    "                list[]: list of items\n",
    "          Return : \n",
    "                returns list tuple into array\n",
    "    '''\n",
    "    result_array=np.array(list_ex,dtype=int)\n",
    "    print(\"list to array:\")\n",
    "    return result_array\n",
    "\n",
    "\n",
    "def conver_tuple_array(tuple_ex):\n",
    "    '''\n",
    "          Description: \n",
    "                this function is convering list to array\n",
    "          Parameters: \n",
    "                list[]: list of items\n",
    "          Return : \n",
    "                None\n",
    "    '''\n",
    "    result_array=np.array(tuple_ex,dtype=int)\n",
    "    print(\"tuple to array:\")\n",
    "    print(result_array)\n",
    "\n",
    "\n",
    "def main():\n",
    "    list_ex=[1,2,3,4,5,6,7,8]\n",
    "    tuple_ex=([8,4,6],[1,2,3])\n",
    "    conver_list_array(list_ex)\n",
    "    conver_tuple_array(tuple_ex)\n",
    "\n",
    "\n",
    "if __name__==\"__main__\":\n",
    "    main()"
   ]
  },
  {
   "cell_type": "markdown",
   "metadata": {},
   "source": [
    "9. Write a Python program to append values to the end of an array.\n",
    "Expected Output:\n",
    "Original array:\n",
    "[10, 20, 30]\n",
    "\n",
    "After append values to the end of the array:\n",
    "[10 20 30 40 50 60 70 80 90]"
   ]
  },
  {
   "cell_type": "code",
   "execution_count": 59,
   "metadata": {},
   "outputs": [
    {
     "name": "stdout",
     "output_type": "stream",
     "text": [
      "original array:\n",
      "[10 20 30]\n",
      "after appending\n",
      "[10 20 30 40 50 60 70 80 90]\n"
     ]
    }
   ],
   "source": [
    "def values_appending(original_array,adding_values_array):\n",
    "    '''\n",
    "          Description: \n",
    "                this function is adding values in array\n",
    "          Parameters: \n",
    "                origin_array[]: list of items\n",
    "                adding_values_array[]: new values to adding orginal array\n",
    "          Return : \n",
    "                None\n",
    "    '''\n",
    "    original_array=np.array(original_array)\n",
    "    print(\"original array:\")\n",
    "    print(original_array)\n",
    "    updated_array=np.append(original_array,adding_values_array)\n",
    "    print(\"after appending\")\n",
    "    print(updated_array)\n",
    "\n",
    "\n",
    "\n",
    "def main():\n",
    "    original_array=[10,20,30]\n",
    "    adding_values_array=[40,50,60,70,80,90]\n",
    "    values_appending(original_array,adding_values_array)\n",
    "\n",
    "\n",
    "if __name__==\"__main__\":\n",
    "    main()"
   ]
  },
  {
   "cell_type": "markdown",
   "metadata": {},
   "source": [
    "10.Write a Python program to find the real and imaginary parts of an array of complex\n",
    "numbers.\n",
    "Expected Output:\n",
    "Original array [ 1.00000000+0.j 0.70710678+0.70710678j]\n",
    "Real part of the array:\n",
    "[ 1. 0.70710678]\n",
    "Imaginary part of the array:\n",
    "[ 0. 0.70710678]"
   ]
  },
  {
   "cell_type": "code",
   "execution_count": 60,
   "metadata": {},
   "outputs": [
    {
     "name": "stdout",
     "output_type": "stream",
     "text": [
      "original array:\n",
      "[1.   +0.j    0.707+0.707j]\n",
      "real part of array:\n",
      "[1.    0.707]\n",
      "Imaginary part of the array:\n",
      "[0.    0.707]\n"
     ]
    }
   ],
   "source": [
    "def identify_real_imag(original_array):\n",
    "    '''\n",
    "          Description: \n",
    "                this function is identify real and imaginary parts\n",
    "          Parameters: \n",
    "                origin_array[]: list of items\n",
    "          Return : \n",
    "                None\n",
    "    '''\n",
    "    original_array=np.array(original_array)\n",
    "    print(\"original array:\")\n",
    "    print(original_array)\n",
    "    real_part=np.real(original_array)\n",
    "    print(\"real part of array:\")\n",
    "    print(real_part)\n",
    "    imag_part=np.imag(original_array)\n",
    "    print(\"Imaginary part of the array:\")\n",
    "    print(imag_part)\n",
    "\n",
    "\n",
    "\n",
    "def main():\n",
    "    original_array=[ 1.00000000+0.j ,0.70710678+0.70710678j]\n",
    "    identify_real_imag(original_array)\n",
    "\n",
    "\n",
    "if __name__==\"__main__\":\n",
    "    main()"
   ]
  },
  {
   "cell_type": "markdown",
   "metadata": {},
   "source": [
    "11.Write a Python program to find the number of elements of an array, length of one\n",
    "array element in bytes and total bytes consumed by the elements.\n",
    "Expected Output:\n",
    "Size of the array: 3\n",
    "Length of one array element in bytes: 8\n",
    "Total bytes consumed by the elements of the array: 24"
   ]
  },
  {
   "cell_type": "code",
   "execution_count": 61,
   "metadata": {},
   "outputs": [
    {
     "name": "stdout",
     "output_type": "stream",
     "text": [
      "size of the array: 4\n",
      "length of array element in bytes: 8\n",
      "total array elements in bytes: 32\n"
     ]
    }
   ],
   "source": [
    "def size_array(original_array):\n",
    "    '''\n",
    "          Description: \n",
    "                this function is get size of array\n",
    "          Parameters: \n",
    "                origin_array[]: list of items\n",
    "          Return : \n",
    "                \n",
    "    '''\n",
    "    original_array=np.array(original_array)\n",
    "    size_result=original_array.size\n",
    "    print(\"size of the array:\",size_result)\n",
    "\n",
    "\n",
    "def length_array_bytes(original_array):\n",
    "    '''\n",
    "          Description: \n",
    "                this function is length of array element in bytes\n",
    "          Parameters: \n",
    "                origin_array[]: list of items\n",
    "          Return : \n",
    "                None\n",
    "    '''\n",
    "    original_array=np.array(original_array)\n",
    "    length_element_bytes=original_array.itemsize\n",
    "    print(\"length of array element in bytes:\",length_element_bytes)\n",
    "\n",
    "\n",
    "def total_bytes(original_array):\n",
    "    '''\n",
    "          Description: \n",
    "                this function is get total array elements in bytes\n",
    "          Parameters: \n",
    "                origin_array[]: list of items\n",
    "          Return : \n",
    "                None\n",
    "    '''\n",
    "    original_array=np.array(original_array)\n",
    "    total_bytes=original_array.nbytes\n",
    "    print(\"total array elements in bytes:\",total_bytes)\n",
    "\n",
    "\n",
    "def main():\n",
    "   \n",
    "   original_array=[10,12,100,34]\n",
    "   size_array(original_array)\n",
    "   length_array_bytes(original_array)\n",
    "   total_bytes(original_array)\n",
    "\n",
    "\n",
    "if __name__==\"__main__\":\n",
    "    main()"
   ]
  },
  {
   "cell_type": "markdown",
   "metadata": {},
   "source": [
    "12.Write a Python program to find common values between two arrays.\n",
    "Expected Output:\n",
    "Array1: [ 0 10 20 40 60]\n",
    "Array2: [10, 30, 40]\n",
    "Common values between two arrays:\n",
    "[10 40]"
   ]
  },
  {
   "cell_type": "code",
   "execution_count": 62,
   "metadata": {},
   "outputs": [
    {
     "name": "stdout",
     "output_type": "stream",
     "text": [
      "Array 1:\n",
      "[ 0 10 20 40 60]\n",
      "Array 2:\n",
      "[10 30 40]\n",
      "common values between two arrays:\n",
      "[10 40]\n"
     ]
    }
   ],
   "source": [
    "def common_values(array_1,array_2):\n",
    "    '''\n",
    "          Description: \n",
    "                this function is common values identify in two arrays\n",
    "          Parameters: \n",
    "                array_1[]: list of items\n",
    "                array_2[]: list of items\n",
    "          Return : \n",
    "                retuerns common items in two arrays\n",
    "    '''\n",
    "    array_1=np.array(array_1)\n",
    "    print(\"Array 1:\")\n",
    "    print(array_1)\n",
    "    array_2=np.real(array_2)\n",
    "    print(\"Array 2:\")\n",
    "    print(array_2)\n",
    "    common=np.intersect1d(array_1,array_2)\n",
    "    print(\"common values between two arrays:\")\n",
    "    return common\n",
    "\n",
    "\n",
    "def main():\n",
    "    array_1=[0,10,20,40,60]\n",
    "    array_2=[10,30,40]\n",
    "    print(common_values(array_1,array_2))\n",
    "\n",
    "\n",
    "if __name__==\"__main__\":\n",
    "    main()"
   ]
  },
  {
   "cell_type": "markdown",
   "metadata": {},
   "source": [
    "13.Write a Python program to find the set difference of two arrays. The set difference\n",
    "will return the sorted, unique values in array1 that are not in array2.\n",
    "Expected Output:\n",
    "Array1: [ 0 10 20 40 60 80]\n",
    "Array2: [10, 30, 40, 50, 70, 90]\n",
    "Set difference between two arrays:\n",
    "[ 0 20 60 80]"
   ]
  },
  {
   "cell_type": "code",
   "execution_count": 63,
   "metadata": {},
   "outputs": [
    {
     "name": "stdout",
     "output_type": "stream",
     "text": [
      "Array 1:\n",
      "[ 0 10 20 40 60 80]\n",
      "Array 2:\n",
      "[10 30 40 50 70 90]\n",
      "set difference between two arrays:\n",
      "[ 0 20 60 80]\n"
     ]
    }
   ],
   "source": [
    "def set_differnce_of_arrays(array_1,array_2):\n",
    "    '''\n",
    "          Description: \n",
    "                this function is set difference\n",
    "          Parameters: \n",
    "                array_1[]: list of items\n",
    "                array_2[]: list of items\n",
    "          Return : \n",
    "                returns set difference between two arrays\n",
    "    '''\n",
    "    array_1=np.array(array_1)\n",
    "    print(\"Array 1:\")\n",
    "    print(array_1)\n",
    "    array_2=np.real(array_2)\n",
    "    print(\"Array 2:\")\n",
    "    print(array_2)\n",
    "    set_differnce=np.setdiff1d(array_1,array_2)\n",
    "    print(\"set difference between two arrays:\")\n",
    "    return set_differnce\n",
    "\n",
    "\n",
    "def main():\n",
    "    array_1=[0,10,20,40,60,80]\n",
    "    array_2=[10,30,40,50,70,90]\n",
    "    print(set_differnce_of_arrays(array_1,array_2))\n",
    "\n",
    "\n",
    "if __name__==\"__main__\":\n",
    "    main()"
   ]
  },
  {
   "cell_type": "markdown",
   "metadata": {},
   "source": [
    "14.Write a Python program to find the set exclusive-or of two arrays. Set exclusive-or\n",
    "will return the sorted, unique values that are in only one (not both) of the input arrays.\n",
    "Array1: [ 0 10 20 40 60 80]\n",
    "Array2: [10, 30, 40, 50, 70]\n",
    "Unique values that are in only one (not both) of the input arrays:\n",
    "[ 0 20 30 50 60 70 80]"
   ]
  },
  {
   "cell_type": "code",
   "execution_count": 64,
   "metadata": {},
   "outputs": [
    {
     "name": "stdout",
     "output_type": "stream",
     "text": [
      "Array 1:\n",
      "[ 0 10 20 40 60 80]\n",
      "Array 2:\n",
      "[10 30 40 50 70]\n",
      "Unique values that are in only one (not both) of the input arrays:\n",
      "[ 0 20 30 50 60 70 80]\n"
     ]
    }
   ],
   "source": [
    "def set_exclive_xor(array_1,array_2):\n",
    "    '''\n",
    "          Description: \n",
    "                this function is set difference\n",
    "          Parameters: \n",
    "                array_1[]: list of items\n",
    "                array_2[]: list of items\n",
    "          Return : \n",
    "                returns set exclusive of two arrays\n",
    "    '''\n",
    "    array_1=np.array(array_1)\n",
    "    print(\"Array 1:\")\n",
    "    print(array_1)\n",
    "    array_2=np.real(array_2)\n",
    "    print(\"Array 2:\")\n",
    "    print(array_2)\n",
    "    set_differnce=np.setxor1d(array_1,array_2)\n",
    "    print(\"Unique values that are in only one (not both) of the input arrays:\")\n",
    "    return set_differnce\n",
    "\n",
    "\n",
    "def main():\n",
    "    array_1=[0,10,20,40,60,80]\n",
    "    array_2=[10,30,40,50,70]\n",
    "    print(set_exclive_xor(array_1,array_2))\n",
    "\n",
    "\n",
    "if __name__==\"__main__\":\n",
    "    main()"
   ]
  },
  {
   "cell_type": "markdown",
   "metadata": {},
   "source": [
    "15. Write a Python program compare two arrays using numpy.\n",
    "Array a: [1 2]\n",
    "Array b: [4 5]\n",
    "a > b\n",
    "[False False]\n",
    "a >= b\n",
    "[False False]\n",
    "a < b\n",
    "[ True True]\n",
    "a <= b\n",
    "[ True True]"
   ]
  },
  {
   "cell_type": "code",
   "execution_count": 65,
   "metadata": {},
   "outputs": [
    {
     "name": "stdout",
     "output_type": "stream",
     "text": [
      "Array 1: [1 2]\n",
      "Array 2: [4 5]\n",
      "a>b\n",
      "[False False]\n",
      "a>=b\n",
      "[False False]\n",
      "a<b\n",
      "[ True  True]\n",
      "[ True  True]\n",
      "[ True  True]\n"
     ]
    }
   ],
   "source": [
    "def comparing_method(array_a,array_b):\n",
    "    '''\n",
    "          Description: \n",
    "                this function is comparing two array like <,>,<=,>=\n",
    "          Parameters: \n",
    "                array_a[]: list of items\n",
    "                array_b[]: list of items\n",
    "          Return : \n",
    "                None\n",
    "    '''\n",
    "    array_a=np.array(array_a)\n",
    "    print(\"Array 1:\",array_a)\n",
    "    array_b=np.real(array_b)\n",
    "    print(\"Array 2:\",array_b)\n",
    "    print(\"a>b\")\n",
    "    print(array_a>array_b)\n",
    "    print(\"a>=b\")\n",
    "    print(array_a>=array_b)\n",
    "    print(\"a<b\")\n",
    "    print(array_a<array_b)\n",
    "    print(array_a<=array_b)\n",
    "    print(array_a<=array_b)\n",
    "\n",
    "\n",
    "def main():\n",
    "    array_1=[1,2]\n",
    "    array_2=[4,5]\n",
    "    comparing_method(array_1,array_2)\n",
    "\n",
    "\n",
    "if __name__==\"__main__\":\n",
    "    main()"
   ]
  },
  {
   "cell_type": "markdown",
   "metadata": {},
   "source": [
    "16. Write a Python program to save a NumPy array to a text file."
   ]
  },
  {
   "cell_type": "code",
   "execution_count": 66,
   "metadata": {},
   "outputs": [
    {
     "name": "stdout",
     "output_type": "stream",
     "text": [
      "Array has been saved to original_array.txt\n"
     ]
    }
   ],
   "source": [
    "def convertin_array_text(original_array):\n",
    "    '''\n",
    "          Description: \n",
    "                this function is convert array to text\n",
    "          Parameters: \n",
    "                original_array: a list of array items\n",
    "          Return : \n",
    "                None\n",
    "    '''\n",
    "    original_array=np.array(original_array)\n",
    "    np.savetxt('original_array.txt',original_array,fmt=\"%d\")\n",
    "    print(\"Array has been saved to original_array.txt\")\n",
    "\n",
    "\n",
    "def main():\n",
    "\n",
    "    original_array=[[1, 2, 3], [4, 5, 6], [7, 8, 9]]\n",
    "    convertin_array_text(original_array)\n",
    "\n",
    "\n",
    "if __name__==\"__main__\":\n",
    "    main()"
   ]
  },
  {
   "cell_type": "markdown",
   "metadata": {},
   "source": [
    "17. Write a Python program to create a contiguous flattened array.\n",
    "Original array:\n",
    "[[10 20 30]\n",
    "[20 40 50]]\n",
    "New flattened array:\n",
    "[10 20 30 20 40 50]"
   ]
  },
  {
   "cell_type": "code",
   "execution_count": 67,
   "metadata": {},
   "outputs": [
    {
     "name": "stdout",
     "output_type": "stream",
     "text": [
      "original array:\n",
      "[[10 20 30]\n",
      " [20 40 50]]\n",
      "new flatten array:\n",
      "[10 20 30 20 40 50]\n"
     ]
    }
   ],
   "source": [
    "def continiuos_flatten_array(original_array):\n",
    "    '''\n",
    "          Description: \n",
    "                this function is convert array to text\n",
    "          Parameters: \n",
    "                original_array: a list of array items\n",
    "          Return : \n",
    "                returns flatten array\n",
    "    '''\n",
    "    original_array=np.array(original_array)\n",
    "    print(\"original array:\")\n",
    "    print(original_array)\n",
    "    flatten_array=original_array.flatten()\n",
    "    print(\"new flatten array:\")\n",
    "    return flatten_array\n",
    "\n",
    "\n",
    "def main():\n",
    "\n",
    "    original_array=[[10, 20, 30], [20, 40, 50]]\n",
    "    print(continiuos_flatten_array(original_array))\n",
    "\n",
    "\n",
    "if __name__==\"__main__\":\n",
    "    main()"
   ]
  },
  {
   "cell_type": "markdown",
   "metadata": {},
   "source": [
    "18.Write a Python program to change the data type of an array.\n",
    "Expected Output:\n",
    "[[ 2 4 6]\n",
    "[ 6 8 10]]\n",
    "Data type of the array x is: int32\n",
    "New Type: float64\n",
    "[[ 2. 4. 6.]\n",
    "[ 6. 8. 10.]]"
   ]
  },
  {
   "cell_type": "code",
   "execution_count": 68,
   "metadata": {},
   "outputs": [
    {
     "name": "stdout",
     "output_type": "stream",
     "text": [
      "original array:\n",
      "[[10 20 30]\n",
      " [20 40 50]]\n",
      "Data type of the array is: int64\n",
      "new type float64\n",
      "[[10. 20. 30.]\n",
      " [20. 40. 50.]]\n"
     ]
    }
   ],
   "source": [
    "def change_data_type_array(original_array):\n",
    "    '''\n",
    "          Description: \n",
    "                this function is convert int to float array\n",
    "          Parameters: \n",
    "                original_array: a list of array items\n",
    "          Return : \n",
    "                returns floaten array\n",
    "    '''\n",
    "    original_array=np.array(original_array)\n",
    "    print(\"original array:\")\n",
    "    print(original_array)\n",
    "    print(\"Data type of the array is:\",original_array.dtype)\n",
    "    floaten_array=original_array.astype(np.float64)\n",
    "    print(\"new type\",floaten_array.dtype)\n",
    "    return floaten_array\n",
    "\n",
    "\n",
    "def main():\n",
    "\n",
    "    original_array=[[10, 20, 30], [20, 40, 50]]\n",
    "    print(change_data_type_array(original_array))\n",
    "\n",
    "\n",
    "if __name__==\"__main__\":\n",
    "    main()"
   ]
  },
  {
   "cell_type": "markdown",
   "metadata": {},
   "source": [
    "19. Write a Python program to create a 3-D array with ones on a diagonal and zeros\n",
    "elsewhere.\n",
    "Expected Output:\n",
    "[[ 1. 0. 0.]\n",
    "[ 0. 1. 0.]\n",
    "[ 0. 0. 1.]]"
   ]
  },
  {
   "cell_type": "code",
   "execution_count": 69,
   "metadata": {},
   "outputs": [
    {
     "name": "stdout",
     "output_type": "stream",
     "text": [
      "[[1. 0. 0.]\n",
      " [0. 1. 0.]\n",
      " [0. 0. 1.]]\n"
     ]
    }
   ],
   "source": [
    "def three_d_array():\n",
    "    '''\n",
    "          Description: \n",
    "                this function is create a 3-D array with ones on a diagonal and zeros\n",
    "                elsewhere.\n",
    "          Parameters: \n",
    "                no perameters\n",
    "          Return : \n",
    "                returns zeroes and eye method use\n",
    "    '''\n",
    "    result=np.eye(3)\n",
    "    return result\n",
    "\n",
    "\n",
    "def main():\n",
    "    print(three_d_array())\n",
    "\n",
    "\n",
    "if __name__==\"__main__\":\n",
    "    main()"
   ]
  },
  {
   "cell_type": "markdown",
   "metadata": {},
   "source": [
    "20. Write a Python program to create an array which looks like below array.\n",
    "Expected Output:\n",
    "[[ 0. 0. 0.]\n",
    "[ 1. 0. 0.]\n",
    "[ 1. 1. 0.]\n",
    "\n",
    "[ 1. 1. 1.]]"
   ]
  },
  {
   "cell_type": "code",
   "execution_count": 70,
   "metadata": {},
   "outputs": [
    {
     "name": "stdout",
     "output_type": "stream",
     "text": [
      "[[0. 0. 0.]\n",
      " [1. 0. 0.]\n",
      " [1. 1. 0.]\n",
      " [1. 1. 1.]]\n"
     ]
    }
   ],
   "source": [
    "def array_formate_change(original_array):\n",
    "    '''\n",
    "          Description: \n",
    "                this function is change the array \n",
    "                elsewhere.\n",
    "          Parameters: \n",
    "                original[]: list of items\n",
    "          Return : \n",
    "                None\n",
    "    '''\n",
    "    original_array[1,0]=1\n",
    "    original_array[2,:2]=1\n",
    "    original_array[3,:3]=1\n",
    "    print(original_array)\n",
    "\n",
    "\n",
    "def main():\n",
    "    original_array=np.zeros((4,3))\n",
    "    array_formate_change(original_array)\n",
    "\n",
    "\n",
    "if __name__==\"__main__\":\n",
    "    main()"
   ]
  },
  {
   "cell_type": "markdown",
   "metadata": {},
   "source": [
    "21. Write a Python program to concatenate two 2-dimensional arrays.\n",
    "Expected Output:\n",
    "Sample arrays: [[0, 1, 3], [5, 7, 9]], [[0, 2, 4], [6, 8, 10]]\n",
    "Expected Output:\n",
    "[[ 0 1 3 0 2 4]\n",
    "[ 5 7 9 6 8 10]]"
   ]
  },
  {
   "cell_type": "code",
   "execution_count": 71,
   "metadata": {},
   "outputs": [
    {
     "name": "stdout",
     "output_type": "stream",
     "text": [
      "[[ 0  1  3  0  2  4]\n",
      " [ 5  7  9  6  8 10]]\n"
     ]
    }
   ],
   "source": [
    "def concadinate_two_d_array(array_a):\n",
    "    '''\n",
    "          Description: \n",
    "                this function is concinate array \n",
    "          Parameters: \n",
    "                array_a[]: list of items\n",
    "          Return : \n",
    "                None\n",
    "    '''\n",
    "    array_a=np.array(array_a)\n",
    "    result=np.concatenate(array_a,axis=1)\n",
    "    print(result)\n",
    "    \n",
    "\n",
    "def main():\n",
    "    array_a=[[0, 1, 3], [5, 7, 9]], [[0, 2, 4], [6, 8, 10]]\n",
    "    concadinate_two_d_array(array_a)\n",
    "\n",
    "\n",
    "if __name__==\"__main__\":\n",
    "    main()"
   ]
  },
  {
   "cell_type": "markdown",
   "metadata": {},
   "source": [
    "22.Write a Python program to make an array immutable (read-only).\n",
    "Expected Output:\n",
    "Test the array is read-only or not:\n",
    "Try to change the value of the first element:\n",
    "Traceback (most recent call last):\n",
    "File \"19236bd0-0bd9-11e7-a232-c706d0968eb6.py\", line 6, in\n",
    "x[0] = 1\n",
    "ValueError: assignment destination is read-only"
   ]
  },
  {
   "cell_type": "code",
   "execution_count": 72,
   "metadata": {},
   "outputs": [
    {
     "name": "stdout",
     "output_type": "stream",
     "text": [
      "The test array is read only or not\n",
      "Error assignment destination is read-only\n"
     ]
    }
   ],
   "source": [
    "def array_immutable(array_a):\n",
    "    '''\n",
    "          Description: \n",
    "                this function array as immutable\n",
    "          Parameters: \n",
    "                array_a[]: list of items\n",
    "          Return : \n",
    "                None\n",
    "    '''\n",
    "    array_a=np.array(array_a)\n",
    "    array_a.flags.writeable=False\n",
    "    print(\"The test array is read only or not\")\n",
    "    try:\n",
    "        array_a[0]=1\n",
    "\n",
    "    except ValueError as e:\n",
    "        print(\"Error\",e)\n",
    "\n",
    "\n",
    "\n",
    "def main():\n",
    "    array_a=[30,10,20,40]\n",
    "    array_immutable(array_a)\n",
    "\n",
    "\n",
    "if __name__==\"__main__\":\n",
    "    main()"
   ]
  },
  {
   "cell_type": "markdown",
   "metadata": {},
   "source": [
    "23. Write a Python program to create an array of (3, 4) shape, multiply every element\n",
    "value by 3 and display the new array.\n",
    "Expected Output:\n",
    "Original array elements:\n",
    "[[ 0 1 2 3]\n",
    "[ 4 5 6 7]\n",
    "[ 8 9 10 11]]\n",
    "New array elements:\n",
    "[[ 0 3 6 9]\n",
    "[12 15 18 21]\n",
    "[24 27 30 33]]"
   ]
  },
  {
   "cell_type": "code",
   "execution_count": 73,
   "metadata": {},
   "outputs": [
    {
     "name": "stdout",
     "output_type": "stream",
     "text": [
      "[[ 0  3  6  9]\n",
      " [12 15 18 21]\n",
      " [24 27 30 33]]\n"
     ]
    }
   ],
   "source": [
    "def multiple_array_with_three(array_a):\n",
    "    '''\n",
    "          Description: \n",
    "                this function is mutltiple array with three \n",
    "          Parameters: \n",
    "                array_a[]: list of items\n",
    "          Return : \n",
    "                returns array multiply with 3\n",
    "    '''\n",
    "    result=array_a*3\n",
    "    return result\n",
    "\n",
    "\n",
    "\n",
    "def main():\n",
    "    array_a=np.arange(12).reshape(3,4)\n",
    "    print(multiple_array_with_three(array_a))\n",
    "\n",
    "\n",
    "if __name__==\"__main__\":\n",
    "    main()"
   ]
  },
  {
   "cell_type": "markdown",
   "metadata": {},
   "source": [
    "24.Write a Python program to convert a NumPy array into Python list structure.\n",
    "Expected Output:\n",
    "Original array elements:\n",
    "[[0 1]\n",
    "[2 3]\n",
    "[4 5]]\n",
    "Array to list:\n",
    "[[0, 1], [2, 3], [4, 5]]"
   ]
  },
  {
   "cell_type": "code",
   "execution_count": 74,
   "metadata": {},
   "outputs": [
    {
     "name": "stdout",
     "output_type": "stream",
     "text": [
      "original arraay:\n",
      "[[0 1]\n",
      " [2 3]\n",
      " [4 5]]\n",
      "Array to list:\n",
      "[[0, 1], [2, 3], [4, 5]]\n"
     ]
    }
   ],
   "source": [
    "def array_to_list(array_a):\n",
    "    '''\n",
    "          Description: \n",
    "                this function isconverting array to list\n",
    "          Parameters: \n",
    "                array_a[]: list of items\n",
    "          Return : \n",
    "                None\n",
    "    '''\n",
    "    print(\"original arraay:\")\n",
    "    print(array_a)\n",
    "    list_result=array_a.tolist()\n",
    "    print(\"Array to list:\")\n",
    "    print(list_result)\n",
    "\n",
    "\n",
    "\n",
    "def main():\n",
    "    array_a=np.arange(6).reshape(3,2)\n",
    "    array_to_list(array_a)\n",
    "\n",
    "\n",
    "if __name__==\"__main__\":\n",
    "    main()"
   ]
  },
  {
   "cell_type": "markdown",
   "metadata": {},
   "source": [
    "24. Write a Python program to convert a NumPy array into Python list structure.\n",
    "Expected Output:\n",
    "\n",
    "Original array elements:\n",
    "[ 0.26153123 0.52760141 0.5718299 0.5927067 0.7831874 0.69746349\n",
    "0.35399976 0.99469633 0.0694458 0.54711478]\n",
    "Print array values with precision 3:\n",
    "[ 0.262 0.528 0.572 0.593 0.783 0.697 0.354 0.995 0.069 0.547]"
   ]
  },
  {
   "cell_type": "code",
   "execution_count": 75,
   "metadata": {},
   "outputs": [
    {
     "name": "stdout",
     "output_type": "stream",
     "text": [
      "original array:\n",
      "[0.262 0.528 0.572 0.593 0.783 0.697 0.354 0.995 0.069 0.547]\n",
      "print value with precision 3\n",
      "[0.262 0.528 0.572 0.593 0.783 0.697 0.354 0.995 0.069 0.547]\n"
     ]
    }
   ],
   "source": [
    "def array_to_list_with_three(array_a):\n",
    "    '''\n",
    "          Description: \n",
    "                this function isconverting array to list array values with precision 3\n",
    "          Parameters: \n",
    "                array_a[]: list of items\n",
    "          Return : \n",
    "                None\n",
    "    '''\n",
    "    print(\"original array:\")\n",
    "    print(array_a)\n",
    "    print(\"print value with precision 3\" )\n",
    "    result_list=np.around(array_a,3)\n",
    "    print(result_list)\n",
    "\n",
    "\n",
    "\n",
    "def main():\n",
    "    array_a=[ 0.26153123, 0.52760141 ,0.5718299 ,0.5927067 ,0.7831874, 0.69746349,\n",
    "    0.35399976 ,0.99469633, 0.0694458, 0.54711478]\n",
    "    array_a=np.array(array_a)\n",
    "    array_to_list_with_three(array_a)\n",
    "\n",
    "\n",
    "if __name__==\"__main__\":\n",
    "    main()"
   ]
  },
  {
   "cell_type": "markdown",
   "metadata": {},
   "source": [
    "26. Write a Python program to suppresses the use of scientific notation for small\n",
    "numbers in numpy array.\n",
    "Expected Output:\n",
    "Original array elements:\n",
    "[ 1.60000000e-10 1.60000000e+00 1.20000000e+03 2.35000000e-01]\n",
    "Print array values with precision 3:\n",
    "[ 0. 1.6 1200. 0.235]"
   ]
  },
  {
   "cell_type": "code",
   "execution_count": 76,
   "metadata": {},
   "outputs": [
    {
     "name": "stdout",
     "output_type": "stream",
     "text": [
      "original array:\n",
      "[   0.       1.6   1200.       0.235]\n",
      "print value with set precision 3\n",
      "[   0.       1.6   1200.       0.235]\n"
     ]
    }
   ],
   "source": [
    "def array_to_list_with_set_precision(array_a):\n",
    "    '''\n",
    "          Description: \n",
    "                this function is converting array to list array values with precision 3\n",
    "          Parameters: \n",
    "                array_a[]: list of items\n",
    "          Return : \n",
    "                None\n",
    "    '''\n",
    "    print(\"original array:\")\n",
    "    print(array_a)\n",
    "    print(\"print value with set precision 3\" )\n",
    "    np.set_printoptions(suppress=True, precision=3)\n",
    "    print(array_a)\n",
    "\n",
    "\n",
    "\n",
    "def main():\n",
    "    array_a=[ 1.60000000e-10 ,1.60000000e+00, 1.20000000e+03, 2.35000000e-01]\n",
    "    array_a=np.array(array_a)\n",
    "    array_to_list_with_set_precision(array_a)\n",
    "\n",
    "\n",
    "if __name__==\"__main__\":\n",
    "    main()"
   ]
  },
  {
   "cell_type": "markdown",
   "metadata": {},
   "source": [
    "27. Write a Python program to how to add an extra column to an numpy array.\n",
    "Expected Output:\n",
    "[[ 10 20 30 100]\n",
    "[ 40 50 60 200]]"
   ]
  },
  {
   "cell_type": "code",
   "execution_count": 81,
   "metadata": {},
   "outputs": [
    {
     "name": "stdout",
     "output_type": "stream",
     "text": [
      "original array:\n",
      "[[10 20 30]\n",
      " [40 50 60]]\n",
      "print after adding new column\n",
      "[[ 10  20  30 100]\n",
      " [ 40  50  60 200]]\n"
     ]
    }
   ],
   "source": [
    "def adding_extra_column(array_a,new_column_array):\n",
    "    '''\n",
    "          Description: \n",
    "                this function adding new extra column \n",
    "          Parameters: \n",
    "                array_a[]: list of items\n",
    "                new_column_array: new adding column items\n",
    "          Return : \n",
    "                None\n",
    "    '''\n",
    "    print(\"original array:\")\n",
    "    print(array_a)\n",
    "    print(\"print after adding new column\" )\n",
    "    result_new_columns=np.append(array_a,new_column_array,axis=1)\n",
    "    print(result_new_columns)\n",
    "\n",
    "\n",
    "def main():\n",
    "    array_a=[ [10,20,30],[40,50,60]]\n",
    "    new_column_array=[[100],[200]]\n",
    "    array_a=np.array(array_a)\n",
    "    new_column_array=np.array(new_column_array)\n",
    "    adding_extra_column(array_a,new_column_array)\n",
    "\n",
    "\n",
    "if __name__==\"__main__\":\n",
    "    main()"
   ]
  }
 ],
 "metadata": {
  "kernelspec": {
   "display_name": "Python 3",
   "language": "python",
   "name": "python3"
  },
  "language_info": {
   "codemirror_mode": {
    "name": "ipython",
    "version": 3
   },
   "file_extension": ".py",
   "mimetype": "text/x-python",
   "name": "python",
   "nbconvert_exporter": "python",
   "pygments_lexer": "ipython3",
   "version": "3.10.4"
  }
 },
 "nbformat": 4,
 "nbformat_minor": 2
}
