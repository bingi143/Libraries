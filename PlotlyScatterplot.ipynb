{
 "cells": [
  {
   "cell_type": "markdown",
   "metadata": {},
   "source": [
    "                            Plotyscatter "
   ]
  },
  {
   "cell_type": "markdown",
   "metadata": {},
   "source": [
    "'''<br>\n",
    "\n",
    "@Author: Venkatesh <br>\n",
    "@Date: 2024-09-03 18:00:30 <br>\n",
    "@Last Modified by: Author Name <br>\n",
    "@Last Modified time: 2024-09-03 18:00:30 <br>\n",
    "@Title : Program on matplotlib scatterplot  <br>\n",
    "\n",
    "''' "
   ]
  },
  {
   "cell_type": "code",
   "execution_count": 13,
   "metadata": {},
   "outputs": [],
   "source": [
    "import plotly.graph_objs as go\n",
    "import plotly.offline as pyo\n",
    "import random \n",
    "import numpy as np\n",
    "import pandas as pd"
   ]
  },
  {
   "cell_type": "markdown",
   "metadata": {},
   "source": [
    "1. Write a program to draw a scatter plot for random 1000 x and y coordinates"
   ]
  },
  {
   "cell_type": "code",
   "execution_count": 14,
   "metadata": {},
   "outputs": [],
   "source": [
    "def plotly_scatter():\n",
    "    '''\n",
    "          Description: \n",
    "                This function is draw a scatter plotly for random \n",
    "          Parameters: \n",
    "                None\n",
    "          Return : \n",
    "                None\n",
    "    '''\n",
    "    x_values=np.random.rand(1000)\n",
    "    y_values=np.random.rand(1000)\n",
    "    axis=go.Scatter(x=x_values,y=y_values,mode=\"markers\",marker=dict(size=8,color=20))\n",
    "    layout_data=go.Layout(title=\"random values plotly\")\n",
    "    fig=go.Figure(data=[axis],layout=layout_data)\n",
    "    pyo.plot(fig)\n",
    "\n",
    "\n",
    "def main():\n",
    "    plotly_scatter()\n",
    "\n",
    "\n",
    "if __name__==\"__main__\":\n",
    "    main()\n",
    "\n"
   ]
  },
  {
   "cell_type": "markdown",
   "metadata": {},
   "source": [
    "2. Write a program to draw line and scatter plots for random 100 x and y coordinates"
   ]
  },
  {
   "cell_type": "code",
   "execution_count": 15,
   "metadata": {},
   "outputs": [],
   "source": [
    "def plotly_scatter_line():\n",
    "    '''\n",
    "          Description: \n",
    "                This function is draw a scatter plotly line for random \n",
    "          Parameters: \n",
    "                None\n",
    "          Return : \n",
    "                None\n",
    "    '''\n",
    "    x_values=np.random.rand(100)\n",
    "    y_values=np.random.rand(100)\n",
    "    axis=go.Scatter(x=x_values,y=y_values,mode=\"markers\",marker=dict(size=8,color=20))\n",
    "    layout_data=go.Layout(title=\"random values plotly\")\n",
    "    line_trace = go.Scatter(x=x_values,y=y_values,mode=\"lines\",line=dict(color='red'),name=\"Line Plot\")\n",
    "    fig=go.Figure(data=[axis,line_trace],layout=layout_data)\n",
    "    pyo.plot(fig)\n",
    "\n",
    "\n",
    "def main():\n",
    "    plotly_scatter_line()\n",
    "\n",
    "\n",
    "if __name__==\"__main__\":\n",
    "    main()\n",
    "\n"
   ]
  },
  {
   "cell_type": "markdown",
   "metadata": {},
   "source": [
    "3. Write a program to draw a scatter plot for random 500 x and y coordinates and style it"
   ]
  },
  {
   "cell_type": "code",
   "execution_count": 16,
   "metadata": {},
   "outputs": [],
   "source": [
    "def plotly_scatter_style():\n",
    "    '''\n",
    "          Description: \n",
    "                This function is draw a scatter plotly styling it\n",
    "          Parameters: \n",
    "                None\n",
    "          Return : \n",
    "                None\n",
    "    '''\n",
    "    x_values=np.random.rand(100)\n",
    "    y_values=np.random.rand(100)\n",
    "    axis=go.Scatter(x=x_values,y=y_values,mode=\"markers\",marker=dict(size=8,color=20,colorscale='Viridis',showscale=True,line=dict(width=2,color='DarkSlateGrey')))\n",
    "    layout_data=go.Layout(title=\"random values plotly\")\n",
    "    line_trace = go.Scatter(x=x_values,y=y_values,mode=\"lines\",line=dict(color='red'),name=\"Line Plot\")\n",
    "    fig=go.Figure(data=[axis,line_trace],layout=layout_data)\n",
    "    pyo.plot(fig)\n",
    "\n",
    "\n",
    "def main():\n",
    "    plotly_scatter_style()\n",
    "\n",
    "\n",
    "if __name__==\"__main__\":\n",
    "    main()\n",
    "\n"
   ]
  },
  {
   "cell_type": "markdown",
   "metadata": {},
   "source": [
    "4. Write a program to draw a scatter plot for a given dataset and show datalabels on hover\n",
    "https://raw.githubusercontent.com/plotly/datasets/master/2014_usa_states.csv"
   ]
  },
  {
   "cell_type": "code",
   "execution_count": 17,
   "metadata": {},
   "outputs": [],
   "source": [
    "def plotly_scatter_dataset(data):\n",
    "    '''\n",
    "          Description: \n",
    "                This function is draw a scatter plotly line for random \n",
    "          Parameters: \n",
    "                None\n",
    "          Return : \n",
    "                None\n",
    "    '''\n",
    "    axis=go.Scatter(x=data[\"Rank\"],y=data[\"Population\"],mode=\"markers\",marker=dict(size=8,color=20))\n",
    "    layout_data=go.Layout(title=\"random values plotly\")\n",
    "    line_trace = go.Scatter(x=data[\"Rank\"],y=[\"Population\"],mode=\"lines\",line=dict(color='red'),name=\"Line Plot\")\n",
    "    fig=go.Figure(data=[axis,line_trace],layout=layout_data)\n",
    "    pyo.plot(fig)\n",
    "\n",
    "\n",
    "def main():\n",
    "    data=pd.read_csv(\"https://raw.githubusercontent.com/plotly/datasets/master/2014_usa_states.csv\")\n",
    "    plotly_scatter_dataset(data)\n",
    "\n",
    "\n",
    "if __name__==\"__main__\":\n",
    "    main()\n",
    "\n"
   ]
  }
 ],
 "metadata": {
  "kernelspec": {
   "display_name": "Python 3",
   "language": "python",
   "name": "python3"
  },
  "language_info": {
   "codemirror_mode": {
    "name": "ipython",
    "version": 3
   },
   "file_extension": ".py",
   "mimetype": "text/x-python",
   "name": "python",
   "nbconvert_exporter": "python",
   "pygments_lexer": "ipython3",
   "version": "3.10.4"
  }
 },
 "nbformat": 4,
 "nbformat_minor": 2
}
